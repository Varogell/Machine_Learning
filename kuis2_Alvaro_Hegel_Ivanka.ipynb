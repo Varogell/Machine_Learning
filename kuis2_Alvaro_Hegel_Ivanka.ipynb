{
  "cells": [
    {
      "cell_type": "markdown",
      "metadata": {
        "id": "view-in-github",
        "colab_type": "text"
      },
      "source": [
        "<a href=\"https://colab.research.google.com/github/Varogell/Machine_Learning/blob/main/kuis2_Alvaro_Hegel_Ivanka.ipynb\" target=\"_parent\"><img src=\"https://colab.research.google.com/assets/colab-badge.svg\" alt=\"Open In Colab\"/></a>"
      ]
    },
    {
      "cell_type": "code",
      "execution_count": 1,
      "metadata": {
        "id": "C2s1IJV7wwEv"
      },
      "outputs": [],
      "source": [
        "# Import Library yang dibutuhkan\n",
        "import tensorflow as tf\n",
        "import numpy as np\n",
        "import pandas as pd\n",
        "import matplotlib.pyplot as plt\n",
        "import seaborn as sns\n",
        "from sklearn.preprocessing import LabelBinarizer\n",
        "from sklearn.model_selection import train_test_split\n",
        "from sklearn.metrics import classification_report\n",
        "import zipfile"
      ]
    },
    {
      "cell_type": "markdown",
      "metadata": {
        "id": "_HJRwTFMw7Qm"
      },
      "source": [
        "#Load Dataset"
      ]
    },
    {
      "cell_type": "markdown",
      "metadata": {
        "id": "_UK_IjY0w_U-"
      },
      "source": [
        "Load MNIST"
      ]
    },
    {
      "cell_type": "markdown",
      "metadata": {
        "id": "p4viBnF9xB_U"
      },
      "source": [
        "1.Pertama, dataset MNIST diimpor dari TensorFlow Keras menggunakan from tensorflow.keras.datasets import mnist."
      ]
    },
    {
      "cell_type": "code",
      "execution_count": 2,
      "metadata": {
        "id": "H8IpiDszxBWp"
      },
      "outputs": [],
      "source": [
        "# Import dataset\n",
        "from tensorflow.keras.datasets import mnist"
      ]
    },
    {
      "cell_type": "markdown",
      "metadata": {
        "id": "XHQXi4GMxJu5"
      },
      "source": [
        "2.Kemudian, fungsi mnist.load_data() digunakan untuk memuat dataset MNIST. Dataset ini terdiri dari data latih (train_data) dan label latih (train_labels), serta data uji (test_data) dan label uji (test_labels). Data latih digunakan untuk melatih model, sedangkan data uji digunakan untuk menguji performa model."
      ]
    },
    {
      "cell_type": "code",
      "execution_count": 3,
      "metadata": {
        "id": "p2HL_bgjxMD8"
      },
      "outputs": [],
      "source": [
        "# Load dataset\n",
        "(train_data, train_labels), (test_data, test_labels) = mnist.load_data()"
      ]
    },
    {
      "cell_type": "markdown",
      "metadata": {
        "id": "lCVJ47gQxRYM"
      },
      "source": [
        "3.Selanjutnya, train_labels.shape dan test_labels.shape digunakan untuk memeriksa ukuran label latih dan uji. Hasilnya adalah tuple yang menunjukkan jumlah sampel dalam setiap label."
      ]
    },
    {
      "cell_type": "code",
      "execution_count": 4,
      "metadata": {
        "id": "s7WlllESxTDy",
        "colab": {
          "base_uri": "https://localhost:8080/"
        },
        "outputId": "ce7bb3f2-332a-453b-d66f-903def1ee1c5"
      },
      "outputs": [
        {
          "output_type": "execute_result",
          "data": {
            "text/plain": [
              "((60000, 28, 28), (10000, 28, 28))"
            ]
          },
          "metadata": {},
          "execution_count": 4
        }
      ],
      "source": [
        "# Memeriksa ukuran data train dan test\n",
        "(train_data.shape, test_data.shape)"
      ]
    },
    {
      "cell_type": "code",
      "execution_count": 5,
      "metadata": {
        "id": "btLHgvFtxXaS",
        "colab": {
          "base_uri": "https://localhost:8080/"
        },
        "outputId": "2df41917-0b27-4508-b424-47e4d64a1e20"
      },
      "outputs": [
        {
          "output_type": "execute_result",
          "data": {
            "text/plain": [
              "((60000,), (10000,))"
            ]
          },
          "metadata": {},
          "execution_count": 5
        }
      ],
      "source": [
        "# Memeriksa ukuran label train dan test\n",
        "(train_labels.shape, test_labels.shape)"
      ]
    },
    {
      "cell_type": "markdown",
      "metadata": {
        "id": "2XbroryNxbgS"
      },
      "source": [
        "4.Kemudian, train_data[0].shape digunakan untuk memeriksa ukuran data pertama (index ke-0) dalam data latih. Jika dataset MNIST diimpor dengan benar, maka ukuran data haruslah (28, 28) yang menunjukkan gambar berukuran 28x28 piksel"
      ]
    },
    {
      "cell_type": "code",
      "execution_count": 6,
      "metadata": {
        "id": "Ki92Lmfqxeet",
        "colab": {
          "base_uri": "https://localhost:8080/"
        },
        "outputId": "ce13cd7f-c137-4373-cda1-6b350a8a822e"
      },
      "outputs": [
        {
          "output_type": "execute_result",
          "data": {
            "text/plain": [
              "(28, 28)"
            ]
          },
          "metadata": {},
          "execution_count": 6
        }
      ],
      "source": [
        "# Memeriksa ukuran data pertama index ke 0\n",
        "train_data[0].shape"
      ]
    },
    {
      "cell_type": "markdown",
      "metadata": {
        "id": "JJkm94Cqxgew"
      },
      "source": [
        "5.Terakhir, train_labels.shape digunakan untuk memeriksa ukuran label latih. Hasilnya adalah tuple yang menunjukkan jumlah label dalam data latih"
      ]
    },
    {
      "cell_type": "code",
      "execution_count": 7,
      "metadata": {
        "id": "LhkVB7zxxjhj",
        "colab": {
          "base_uri": "https://localhost:8080/"
        },
        "outputId": "38fdf325-73ea-4b3c-bb60-5592458d5407"
      },
      "outputs": [
        {
          "output_type": "execute_result",
          "data": {
            "text/plain": [
              "(60000,)"
            ]
          },
          "metadata": {},
          "execution_count": 7
        }
      ],
      "source": [
        "# Memeriksa ukuran label\n",
        "train_labels.shape"
      ]
    },
    {
      "cell_type": "markdown",
      "metadata": {
        "id": "-9fEsAVzxmN2"
      },
      "source": [
        "#Combine Train and Test Data\n",
        "1.Menggabungkan data latih dan data uji dari dataset MNIST menjadi satu array menggunakan np.vstack([train_data, test_data]). Hasilnya disimpan dalam variabel digits_data.\n",
        "\n",
        "2.Menggabungkan label latih dan label uji dari dataset MNIST menjadi satu array menggunakan np.hstack([train_labels, test_labels]). Hasilnya disimpan dalam variabel digits_labels"
      ]
    },
    {
      "cell_type": "code",
      "execution_count": 8,
      "metadata": {
        "id": "mmyy0YXUxtdn"
      },
      "outputs": [],
      "source": [
        "digits_data = np.vstack([train_data, test_data])\n",
        "\n",
        "digits_labels = np.hstack([train_labels, test_labels])"
      ]
    },
    {
      "cell_type": "markdown",
      "metadata": {
        "id": "2Hc-Ggl7x5w7"
      },
      "source": [
        "3.Memeriksa bentuk (shape) dari digits_data dan digits_labels menggunakan digits_data.shape dan digits_labels.shape. Ini dilakukan untuk memastikan bahwa penggabungan data dan label telah dilakukan dengan benar"
      ]
    },
    {
      "cell_type": "code",
      "execution_count": 9,
      "metadata": {
        "id": "dnaDBUBxx8cW",
        "colab": {
          "base_uri": "https://localhost:8080/"
        },
        "outputId": "28f9543e-20d9-4e4a-8633-1f1c82edc668"
      },
      "outputs": [
        {
          "output_type": "execute_result",
          "data": {
            "text/plain": [
              "(70000, 28, 28)"
            ]
          },
          "metadata": {},
          "execution_count": 9
        }
      ],
      "source": [
        "# Check data shape\n",
        "digits_data.shape"
      ]
    },
    {
      "cell_type": "code",
      "execution_count": 10,
      "metadata": {
        "id": "ydgjOvrpx_Je",
        "colab": {
          "base_uri": "https://localhost:8080/"
        },
        "outputId": "1101eabd-f227-4c8d-a1c6-24d80eeea318"
      },
      "outputs": [
        {
          "output_type": "execute_result",
          "data": {
            "text/plain": [
              "(70000,)"
            ]
          },
          "metadata": {},
          "execution_count": 10
        }
      ],
      "source": [
        "# Check label shape\n",
        "digits_labels.shape"
      ]
    },
    {
      "cell_type": "markdown",
      "metadata": {
        "id": "e2UweEzvyEVw"
      },
      "source": [
        "4.Memilih secara acak indeks (idx) dari digits_data untuk menampilkan gambar digit secara acak menggunakan np.random.randint(0, digits_data.shape[0]). Gambar tersebut ditampilkan menggunakan plt.imshow() dengan cmap='gray' untuk menggambarkan citra dalam skala abu-abu.\n",
        "5.Menambahkan judul pada plot dengan plt.title() yang menunjukkan kelas (label) dari digit yang ditampilkan"
      ]
    },
    {
      "cell_type": "code",
      "execution_count": 11,
      "metadata": {
        "id": "Cwc3wDJ_yLC2",
        "colab": {
          "base_uri": "https://localhost:8080/",
          "height": 469
        },
        "outputId": "1d42828b-61d5-4c8a-8570-7fe22ccf2800"
      },
      "outputs": [
        {
          "output_type": "execute_result",
          "data": {
            "text/plain": [
              "Text(0.5, 1.0, 'Class: 6')"
            ]
          },
          "metadata": {},
          "execution_count": 11
        },
        {
          "output_type": "display_data",
          "data": {
            "text/plain": [
              "<Figure size 640x480 with 1 Axes>"
            ],
            "image/png": "[encoded data removed]"
          },
          "metadata": {}
        }
      ],
      "source": [
        "# Randomly checking the data\n",
        "idx = np.random.randint(0, digits_data.shape[0])\n",
        "\n",
        "plt.imshow(digits_data[idx], cmap='gray')\n",
        "\n",
        "plt.title('Class: ' + str(digits_labels[idx]))"
      ]
    },
    {
      "cell_type": "markdown",
      "metadata": {
        "id": "5oRBZGsOyONo"
      },
      "source": [
        "6.Terakhir, untuk melihat distribusi label dalam dataset, kode membuat DataFrame df_labels dari digits_labels dan menggunakan sns.countplot() untuk menghitung dan memvisualisasikan jumlah masing-masing label"
      ]
    },
    {
      "cell_type": "code",
      "execution_count": 12,
      "metadata": {
        "id": "f-7dUsg3yRVC",
        "colab": {
          "base_uri": "https://localhost:8080/",
          "height": 466
        },
        "outputId": "0c625e2e-6fd7-48d7-d253-ff42dfa9bb41"
      },
      "outputs": [
        {
          "output_type": "execute_result",
          "data": {
            "text/plain": [
              "<Axes: xlabel='Labels', ylabel='count'>"
            ]
          },
          "metadata": {},
          "execution_count": 12
        },
        {
          "output_type": "display_data",
          "data": {
            "text/plain": [
              "<Figure size 640x480 with 1 Axes>"
            ],
            "image/png": "[encoded data removed]"
          },
          "metadata": {}
        }
      ],
      "source": [
        "# Check data distribution\n",
        "df_labels = pd.DataFrame(digits_labels, columns=['Labels'])\n",
        "\n",
        "sns.countplot(df_labels, x='Labels')"
      ]
    },
    {
      "cell_type": "markdown",
      "metadata": {
        "id": "Tul6zFYyyXG6"
      },
      "source": [
        "Load Kaggle A-Z"
      ]
    },
    {
      "cell_type": "code",
      "execution_count": 13,
      "metadata": {
        "id": "4TFwApwpyZbk",
        "colab": {
          "base_uri": "https://localhost:8080/"
        },
        "outputId": "aeed1d01-3820-4f47-d984-0176e6aced3c"
      },
      "outputs": [
        {
          "output_type": "stream",
          "name": "stdout",
          "text": [
            "--2023-12-05 13:02:53--  https://iaexpert.academy/arquivos/alfabeto_A-Z.zip\n",
            "Resolving iaexpert.academy (iaexpert.academy)... 162.159.134.42\n",
            "Connecting to iaexpert.academy (iaexpert.academy)|162.159.134.42|:443... connected.\n",
            "HTTP request sent, awaiting response... 200 OK\n",
            "Length: 193643888 (185M) [application/zip]\n",
            "Saving to: ‘alfabeto_A-Z.zip.4’\n",
            "\n",
            "alfabeto_A-Z.zip.4  100%[===================>] 184.67M  98.1MB/s    in 1.9s    \n",
            "\n",
            "2023-12-05 13:02:55 (98.1 MB/s) - ‘alfabeto_A-Z.zip.4’ saved [193643888/193643888]\n",
            "\n"
          ]
        }
      ],
      "source": [
        "!wget https://iaexpert.academy/arquivos/alfabeto_A-Z.zip"
      ]
    },
    {
      "cell_type": "code",
      "execution_count": 14,
      "metadata": {
        "id": "aBbSJFzoyecX"
      },
      "outputs": [],
      "source": [
        "# Extract zip file\n",
        "# Inisialisasi objek ZipFile untuk file 'alfabeto_A-Z.zip' dengan mode membaca ('r')\n",
        "zip_object = zipfile.ZipFile(file='alfabeto_A-Z.zip', mode='r')\n",
        "# Ekstraksi semua isi file zip ke direktori saat ini ('./')\n",
        "zip_object.extractall('./')\n",
        "# Menutup file zip setelah proses ekstraksi selesai\n",
        "zip_object.close()"
      ]
    },
    {
      "cell_type": "markdown",
      "metadata": {
        "id": "fTluxUomyjGK"
      },
      "source": [
        "1.Mengimpor modul pandas dan membaca file CSV \"A_Z Handwritten Data.csv\" sebagai DataFrame dataset_az. Tipe data dalam DataFrame diubah menjadi float32"
      ]
    },
    {
      "cell_type": "code",
      "execution_count": 15,
      "metadata": {
        "id": "kuLgS1nLysGc",
        "colab": {
          "base_uri": "https://localhost:8080/",
          "height": 423
        },
        "outputId": "ea8dc3bb-3ff4-4cd3-b301-329f40a8308f"
      },
      "outputs": [
        {
          "output_type": "execute_result",
          "data": {
            "text/plain": [
              "           0  0.1  0.2  0.3  0.4  0.5  0.6  0.7  0.8  0.9  ...  0.639  0.640  \\\n",
              "0        0.0  0.0  0.0  0.0  0.0  0.0  0.0  0.0  0.0  0.0  ...    0.0    0.0   \n",
              "1        0.0  0.0  0.0  0.0  0.0  0.0  0.0  0.0  0.0  0.0  ...    0.0    0.0   \n",
              "2        0.0  0.0  0.0  0.0  0.0  0.0  0.0  0.0  0.0  0.0  ...    0.0    0.0   \n",
              "3        0.0  0.0  0.0  0.0  0.0  0.0  0.0  0.0  0.0  0.0  ...    0.0    0.0   \n",
              "4        0.0  0.0  0.0  0.0  0.0  0.0  0.0  0.0  0.0  0.0  ...    0.0    0.0   \n",
              "...      ...  ...  ...  ...  ...  ...  ...  ...  ...  ...  ...    ...    ...   \n",
              "372445  25.0  0.0  0.0  0.0  0.0  0.0  0.0  0.0  0.0  0.0  ...    0.0    0.0   \n",
              "372446  25.0  0.0  0.0  0.0  0.0  0.0  0.0  0.0  0.0  0.0  ...    0.0    0.0   \n",
              "372447  25.0  0.0  0.0  0.0  0.0  0.0  0.0  0.0  0.0  0.0  ...    0.0    0.0   \n",
              "372448  25.0  0.0  0.0  0.0  0.0  0.0  0.0  0.0  0.0  0.0  ...    0.0    0.0   \n",
              "372449  25.0  0.0  0.0  0.0  0.0  0.0  0.0  0.0  0.0  0.0  ...    0.0    0.0   \n",
              "\n",
              "        0.641  0.642  0.643  0.644  0.645  0.646  0.647  0.648  \n",
              "0         0.0    0.0    0.0    0.0    0.0    0.0    0.0    0.0  \n",
              "1         0.0    0.0    0.0    0.0    0.0    0.0    0.0    0.0  \n",
              "2         0.0    0.0    0.0    0.0    0.0    0.0    0.0    0.0  \n",
              "3         0.0    0.0    0.0    0.0    0.0    0.0    0.0    0.0  \n",
              "4         0.0    0.0    0.0    0.0    0.0    0.0    0.0    0.0  \n",
              "...       ...    ...    ...    ...    ...    ...    ...    ...  \n",
              "372445    0.0    0.0    0.0    0.0    0.0    0.0    0.0    0.0  \n",
              "372446    0.0    0.0    0.0    0.0    0.0    0.0    0.0    0.0  \n",
              "372447    0.0    0.0    0.0    0.0    0.0    0.0    0.0    0.0  \n",
              "372448    0.0    0.0    0.0    0.0    0.0    0.0    0.0    0.0  \n",
              "372449    0.0    0.0    0.0    0.0    0.0    0.0    0.0    0.0  \n",
              "\n",
              "[372450 rows x 785 columns]"
            ],
            "text/html": [
              "\n",
              "  <div id=\"df-20e68f3e-079c-4448-b49f-e738652dd44c\" class=\"colab-df-container\">\n",
              "    <div>\n",
              "<style scoped>\n",
              "    .dataframe tbody tr th:only-of-type {\n",
              "        vertical-align: middle;\n",
              "    }\n",
              "\n",
              "    .dataframe tbody tr th {\n",
              "        vertical-align: top;\n",
              "    }\n",
              "\n",
              "    .dataframe thead th {\n",
              "        text-align: right;\n",
              "    }\n",
              "</style>\n",
              "<table border=\"1\" class=\"dataframe\">\n",
              "  <thead>\n",
              "    <tr style=\"text-align: right;\">\n",
              "      <th></th>\n",
              "      <th>0</th>\n",
              "      <th>0.1</th>\n",
              "      <th>0.2</th>\n",
              "      <th>0.3</th>\n",
              "      <th>0.4</th>\n",
              "      <th>0.5</th>\n",
              "      <th>0.6</th>\n",
              "      <th>0.7</th>\n",
              "      <th>0.8</th>\n",
              "      <th>0.9</th>\n",
              "      <th>...</th>\n",
              "      <th>0.639</th>\n",
              "      <th>0.640</th>\n",
              "      <th>0.641</th>\n",
              "      <th>0.642</th>\n",
              "      <th>0.643</th>\n",
              "      <th>0.644</th>\n",
              "      <th>0.645</th>\n",
              "      <th>0.646</th>\n",
              "      <th>0.647</th>\n",
              "      <th>0.648</th>\n",
              "    </tr>\n",
              "  </thead>\n",
              "  <tbody>\n",
              "    <tr>\n",
              "      <th>0</th>\n",
              "      <td>0.0</td>\n",
              "      <td>0.0</td>\n",
              "      <td>0.0</td>\n",
              "      <td>0.0</td>\n",
              "      <td>0.0</td>\n",
              "      <td>0.0</td>\n",
              "      <td>0.0</td>\n",
              "      <td>0.0</td>\n",
              "      <td>0.0</td>\n",
              "      <td>0.0</td>\n",
              "      <td>...</td>\n",
              "      <td>0.0</td>\n",
              "      <td>0.0</td>\n",
              "      <td>0.0</td>\n",
              "      <td>0.0</td>\n",
              "      <td>0.0</td>\n",
              "      <td>0.0</td>\n",
              "      <td>0.0</td>\n",
              "      <td>0.0</td>\n",
              "      <td>0.0</td>\n",
              "      <td>0.0</td>\n",
              "    </tr>\n",
              "    <tr>\n",
              "      <th>1</th>\n",
              "      <td>0.0</td>\n",
              "      <td>0.0</td>\n",
              "      <td>0.0</td>\n",
              "      <td>0.0</td>\n",
              "      <td>0.0</td>\n",
              "      <td>0.0</td>\n",
              "      <td>0.0</td>\n",
              "      <td>0.0</td>\n",
              "      <td>0.0</td>\n",
              "      <td>0.0</td>\n",
              "      <td>...</td>\n",
              "      <td>0.0</td>\n",
              "      <td>0.0</td>\n",
              "      <td>0.0</td>\n",
              "      <td>0.0</td>\n",
              "      <td>0.0</td>\n",
              "      <td>0.0</td>\n",
              "      <td>0.0</td>\n",
              "      <td>0.0</td>\n",
              "      <td>0.0</td>\n",
              "      <td>0.0</td>\n",
              "    </tr>\n",
              "    <tr>\n",
              "      <th>2</th>\n",
              "      <td>0.0</td>\n",
              "      <td>0.0</td>\n",
              "      <td>0.0</td>\n",
              "      <td>0.0</td>\n",
              "      <td>0.0</td>\n",
              "      <td>0.0</td>\n",
              "      <td>0.0</td>\n",
              "      <td>0.0</td>\n",
              "      <td>0.0</td>\n",
              "      <td>0.0</td>\n",
              "      <td>...</td>\n",
              "      <td>0.0</td>\n",
              "      <td>0.0</td>\n",
              "      <td>0.0</td>\n",
              "      <td>0.0</td>\n",
              "      <td>0.0</td>\n",
              "      <td>0.0</td>\n",
              "      <td>0.0</td>\n",
              "      <td>0.0</td>\n",
              "      <td>0.0</td>\n",
              "      <td>0.0</td>\n",
              "    </tr>\n",
              "    <tr>\n",
              "      <th>3</th>\n",
              "      <td>0.0</td>\n",
              "      <td>0.0</td>\n",
              "      <td>0.0</td>\n",
              "      <td>0.0</td>\n",
              "      <td>0.0</td>\n",
              "      <td>0.0</td>\n",
              "      <td>0.0</td>\n",
              "      <td>0.0</td>\n",
              "      <td>0.0</td>\n",
              "      <td>0.0</td>\n",
              "      <td>...</td>\n",
              "      <td>0.0</td>\n",
              "      <td>0.0</td>\n",
              "      <td>0.0</td>\n",
              "      <td>0.0</td>\n",
              "      <td>0.0</td>\n",
              "      <td>0.0</td>\n",
              "      <td>0.0</td>\n",
              "      <td>0.0</td>\n",
              "      <td>0.0</td>\n",
              "      <td>0.0</td>\n",
              "    </tr>\n",
              "    <tr>\n",
              "      <th>4</th>\n",
              "      <td>0.0</td>\n",
              "      <td>0.0</td>\n",
              "      <td>0.0</td>\n",
              "      <td>0.0</td>\n",
              "      <td>0.0</td>\n",
              "      <td>0.0</td>\n",
              "      <td>0.0</td>\n",
              "      <td>0.0</td>\n",
              "      <td>0.0</td>\n",
              "      <td>0.0</td>\n",
              "      <td>...</td>\n",
              "      <td>0.0</td>\n",
              "      <td>0.0</td>\n",
              "      <td>0.0</td>\n",
              "      <td>0.0</td>\n",
              "      <td>0.0</td>\n",
              "      <td>0.0</td>\n",
              "      <td>0.0</td>\n",
              "      <td>0.0</td>\n",
              "      <td>0.0</td>\n",
              "      <td>0.0</td>\n",
              "    </tr>\n",
              "    <tr>\n",
              "      <th>...</th>\n",
              "      <td>...</td>\n",
              "      <td>...</td>\n",
              "      <td>...</td>\n",
              "      <td>...</td>\n",
              "      <td>...</td>\n",
              "      <td>...</td>\n",
              "      <td>...</td>\n",
              "      <td>...</td>\n",
              "      <td>...</td>\n",
              "      <td>...</td>\n",
              "      <td>...</td>\n",
              "      <td>...</td>\n",
              "      <td>...</td>\n",
              "      <td>...</td>\n",
              "      <td>...</td>\n",
              "      <td>...</td>\n",
              "      <td>...</td>\n",
              "      <td>...</td>\n",
              "      <td>...</td>\n",
              "      <td>...</td>\n",
              "      <td>...</td>\n",
              "    </tr>\n",
              "    <tr>\n",
              "      <th>372445</th>\n",
              "      <td>25.0</td>\n",
              "      <td>0.0</td>\n",
              "      <td>0.0</td>\n",
              "      <td>0.0</td>\n",
              "      <td>0.0</td>\n",
              "      <td>0.0</td>\n",
              "      <td>0.0</td>\n",
              "      <td>0.0</td>\n",
              "      <td>0.0</td>\n",
              "      <td>0.0</td>\n",
              "      <td>...</td>\n",
              "      <td>0.0</td>\n",
              "      <td>0.0</td>\n",
              "      <td>0.0</td>\n",
              "      <td>0.0</td>\n",
              "      <td>0.0</td>\n",
              "      <td>0.0</td>\n",
              "      <td>0.0</td>\n",
              "      <td>0.0</td>\n",
              "      <td>0.0</td>\n",
              "      <td>0.0</td>\n",
              "    </tr>\n",
              "    <tr>\n",
              "      <th>372446</th>\n",
              "      <td>25.0</td>\n",
              "      <td>0.0</td>\n",
              "      <td>0.0</td>\n",
              "      <td>0.0</td>\n",
              "      <td>0.0</td>\n",
              "      <td>0.0</td>\n",
              "      <td>0.0</td>\n",
              "      <td>0.0</td>\n",
              "      <td>0.0</td>\n",
              "      <td>0.0</td>\n",
              "      <td>...</td>\n",
              "      <td>0.0</td>\n",
              "      <td>0.0</td>\n",
              "      <td>0.0</td>\n",
              "      <td>0.0</td>\n",
              "      <td>0.0</td>\n",
              "      <td>0.0</td>\n",
              "      <td>0.0</td>\n",
              "      <td>0.0</td>\n",
              "      <td>0.0</td>\n",
              "      <td>0.0</td>\n",
              "    </tr>\n",
              "    <tr>\n",
              "      <th>372447</th>\n",
              "      <td>25.0</td>\n",
              "      <td>0.0</td>\n",
              "      <td>0.0</td>\n",
              "      <td>0.0</td>\n",
              "      <td>0.0</td>\n",
              "      <td>0.0</td>\n",
              "      <td>0.0</td>\n",
              "      <td>0.0</td>\n",
              "      <td>0.0</td>\n",
              "      <td>0.0</td>\n",
              "      <td>...</td>\n",
              "      <td>0.0</td>\n",
              "      <td>0.0</td>\n",
              "      <td>0.0</td>\n",
              "      <td>0.0</td>\n",
              "      <td>0.0</td>\n",
              "      <td>0.0</td>\n",
              "      <td>0.0</td>\n",
              "      <td>0.0</td>\n",
              "      <td>0.0</td>\n",
              "      <td>0.0</td>\n",
              "    </tr>\n",
              "    <tr>\n",
              "      <th>372448</th>\n",
              "      <td>25.0</td>\n",
              "      <td>0.0</td>\n",
              "      <td>0.0</td>\n",
              "      <td>0.0</td>\n",
              "      <td>0.0</td>\n",
              "      <td>0.0</td>\n",
              "      <td>0.0</td>\n",
              "      <td>0.0</td>\n",
              "      <td>0.0</td>\n",
              "      <td>0.0</td>\n",
              "      <td>...</td>\n",
              "      <td>0.0</td>\n",
              "      <td>0.0</td>\n",
              "      <td>0.0</td>\n",
              "      <td>0.0</td>\n",
              "      <td>0.0</td>\n",
              "      <td>0.0</td>\n",
              "      <td>0.0</td>\n",
              "      <td>0.0</td>\n",
              "      <td>0.0</td>\n",
              "      <td>0.0</td>\n",
              "    </tr>\n",
              "    <tr>\n",
              "      <th>372449</th>\n",
              "      <td>25.0</td>\n",
              "      <td>0.0</td>\n",
              "      <td>0.0</td>\n",
              "      <td>0.0</td>\n",
              "      <td>0.0</td>\n",
              "      <td>0.0</td>\n",
              "      <td>0.0</td>\n",
              "      <td>0.0</td>\n",
              "      <td>0.0</td>\n",
              "      <td>0.0</td>\n",
              "      <td>...</td>\n",
              "      <td>0.0</td>\n",
              "      <td>0.0</td>\n",
              "      <td>0.0</td>\n",
              "      <td>0.0</td>\n",
              "      <td>0.0</td>\n",
              "      <td>0.0</td>\n",
              "      <td>0.0</td>\n",
              "      <td>0.0</td>\n",
              "      <td>0.0</td>\n",
              "      <td>0.0</td>\n",
              "    </tr>\n",
              "  </tbody>\n",
              "</table>\n",
              "<p>372450 rows × 785 columns</p>\n",
              "</div>\n",
              "    <div class=\"colab-df-buttons\">\n",
              "\n",
              "  <div class=\"colab-df-container\">\n",
              "    <button class=\"colab-df-convert\" onclick=\"convertToInteractive('df-20e68f3e-079c-4448-b49f-e738652dd44c')\"\n",
              "            title=\"Convert this dataframe to an interactive table.\"\n",
              "            style=\"display:none;\">\n",
              "\n",
              "  <svg xmlns=\"http://www.w3.org/2000/svg\" height=\"24px\" viewBox=\"0 -960 960 960\">\n",
              "    <path d=\"M120-120v-720h720v720H120Zm60-500h600v-160H180v160Zm220 220h160v-160H400v160Zm0 220h160v-160H400v160ZM180-400h160v-160H180v160Zm440 0h160v-160H620v160ZM180-180h160v-160H180v160Zm440 0h160v-160H620v160Z\"/>\n",
              "  </svg>\n",
              "    </button>\n",
              "\n",
              "  <style>\n",
              "    .colab-df-container {\n",
              "      display:flex;\n",
              "      gap: 12px;\n",
              "    }\n",
              "\n",
              "    .colab-df-convert {\n",
              "      background-color: #E8F0FE;\n",
              "      border: none;\n",
              "      border-radius: 50%;\n",
              "      cursor: pointer;\n",
              "      display: none;\n",
              "      fill: #1967D2;\n",
              "      height: 32px;\n",
              "      padding: 0 0 0 0;\n",
              "      width: 32px;\n",
              "    }\n",
              "\n",
              "    .colab-df-convert:hover {\n",
              "      background-color: #E2EBFA;\n",
              "      box-shadow: 0px 1px 2px rgba(60, 64, 67, 0.3), 0px 1px 3px 1px rgba(60, 64, 67, 0.15);\n",
              "      fill: #174EA6;\n",
              "    }\n",
              "\n",
              "    .colab-df-buttons div {\n",
              "      margin-bottom: 4px;\n",
              "    }\n",
              "\n",
              "    [theme=dark] .colab-df-convert {\n",
              "      background-color: #3B4455;\n",
              "      fill: #D2E3FC;\n",
              "    }\n",
              "\n",
              "    [theme=dark] .colab-df-convert:hover {\n",
              "      background-color: #434B5C;\n",
              "      box-shadow: 0px 1px 3px 1px rgba(0, 0, 0, 0.15);\n",
              "      filter: drop-shadow(0px 1px 2px rgba(0, 0, 0, 0.3));\n",
              "      fill: #FFFFFF;\n",
              "    }\n",
              "  </style>\n",
              "\n",
              "    <script>\n",
              "      const buttonEl =\n",
              "        document.querySelector('#df-20e68f3e-079c-4448-b49f-e738652dd44c button.colab-df-convert');\n",
              "      buttonEl.style.display =\n",
              "        google.colab.kernel.accessAllowed ? 'block' : 'none';\n",
              "\n",
              "      async function convertToInteractive(key) {\n",
              "        const element = document.querySelector('#df-20e68f3e-079c-4448-b49f-e738652dd44c');\n",
              "        const dataTable =\n",
              "          await google.colab.kernel.invokeFunction('convertToInteractive',\n",
              "                                                    [key], {});\n",
              "        if (!dataTable) return;\n",
              "\n",
              "        const docLinkHtml = 'Like what you see? Visit the ' +\n",
              "          '<a target=\"_blank\" href=https://colab.research.google.com/notebooks/data_table.ipynb>data table notebook</a>'\n",
              "          + ' to learn more about interactive tables.';\n",
              "        element.innerHTML = '';\n",
              "        dataTable['output_type'] = 'display_data';\n",
              "        await google.colab.output.renderOutput(dataTable, element);\n",
              "        const docLink = document.createElement('div');\n",
              "        docLink.innerHTML = docLinkHtml;\n",
              "        element.appendChild(docLink);\n",
              "      }\n",
              "    </script>\n",
              "  </div>\n",
              "\n",
              "\n",
              "<div id=\"df-4eab6ab3-fae1-4de6-92a0-a709db44b455\">\n",
              "  <button class=\"colab-df-quickchart\" onclick=\"quickchart('df-4eab6ab3-fae1-4de6-92a0-a709db44b455')\"\n",
              "            title=\"Suggest charts\"\n",
              "            style=\"display:none;\">\n",
              "\n",
              "<svg xmlns=\"http://www.w3.org/2000/svg\" height=\"24px\"viewBox=\"0 0 24 24\"\n",
              "     width=\"24px\">\n",
              "    <g>\n",
              "        <path d=\"M19 3H5c-1.1 0-2 .9-2 2v14c0 1.1.9 2 2 2h14c1.1 0 2-.9 2-2V5c0-1.1-.9-2-2-2zM9 17H7v-7h2v7zm4 0h-2V7h2v10zm4 0h-2v-4h2v4z\"/>\n",
              "    </g>\n",
              "</svg>\n",
              "  </button>\n",
              "\n",
              "<style>\n",
              "  .colab-df-quickchart {\n",
              "      --bg-color: #E8F0FE;\n",
              "      --fill-color: #1967D2;\n",
              "      --hover-bg-color: #E2EBFA;\n",
              "      --hover-fill-color: #174EA6;\n",
              "      --disabled-fill-color: #AAA;\n",
              "      --disabled-bg-color: #DDD;\n",
              "  }\n",
              "\n",
              "  [theme=dark] .colab-df-quickchart {\n",
              "      --bg-color: #3B4455;\n",
              "      --fill-color: #D2E3FC;\n",
              "      --hover-bg-color: #434B5C;\n",
              "      --hover-fill-color: #FFFFFF;\n",
              "      --disabled-bg-color: #3B4455;\n",
              "      --disabled-fill-color: #666;\n",
              "  }\n",
              "\n",
              "  .colab-df-quickchart {\n",
              "    background-color: var(--bg-color);\n",
              "    border: none;\n",
              "    border-radius: 50%;\n",
              "    cursor: pointer;\n",
              "    display: none;\n",
              "    fill: var(--fill-color);\n",
              "    height: 32px;\n",
              "    padding: 0;\n",
              "    width: 32px;\n",
              "  }\n",
              "\n",
              "  .colab-df-quickchart:hover {\n",
              "    background-color: var(--hover-bg-color);\n",
              "    box-shadow: 0 1px 2px rgba(60, 64, 67, 0.3), 0 1px 3px 1px rgba(60, 64, 67, 0.15);\n",
              "    fill: var(--button-hover-fill-color);\n",
              "  }\n",
              "\n",
              "  .colab-df-quickchart-complete:disabled,\n",
              "  .colab-df-quickchart-complete:disabled:hover {\n",
              "    background-color: var(--disabled-bg-color);\n",
              "    fill: var(--disabled-fill-color);\n",
              "    box-shadow: none;\n",
              "  }\n",
              "\n",
              "  .colab-df-spinner {\n",
              "    border: 2px solid var(--fill-color);\n",
              "    border-color: transparent;\n",
              "    border-bottom-color: var(--fill-color);\n",
              "    animation:\n",
              "      spin 1s steps(1) infinite;\n",
              "  }\n",
              "\n",
              "  @keyframes spin {\n",
              "    0% {\n",
              "      border-color: transparent;\n",
              "      border-bottom-color: var(--fill-color);\n",
              "      border-left-color: var(--fill-color);\n",
              "    }\n",
              "    20% {\n",
              "      border-color: transparent;\n",
              "      border-left-color: var(--fill-color);\n",
              "      border-top-color: var(--fill-color);\n",
              "    }\n",
              "    30% {\n",
              "      border-color: transparent;\n",
              "      border-left-color: var(--fill-color);\n",
              "      border-top-color: var(--fill-color);\n",
              "      border-right-color: var(--fill-color);\n",
              "    }\n",
              "    40% {\n",
              "      border-color: transparent;\n",
              "      border-right-color: var(--fill-color);\n",
              "      border-top-color: var(--fill-color);\n",
              "    }\n",
              "    60% {\n",
              "      border-color: transparent;\n",
              "      border-right-color: var(--fill-color);\n",
              "    }\n",
              "    80% {\n",
              "      border-color: transparent;\n",
              "      border-right-color: var(--fill-color);\n",
              "      border-bottom-color: var(--fill-color);\n",
              "    }\n",
              "    90% {\n",
              "      border-color: transparent;\n",
              "      border-bottom-color: var(--fill-color);\n",
              "    }\n",
              "  }\n",
              "</style>\n",
              "\n",
              "  <script>\n",
              "    async function quickchart(key) {\n",
              "      const quickchartButtonEl =\n",
              "        document.querySelector('#' + key + ' button');\n",
              "      quickchartButtonEl.disabled = true;  // To prevent multiple clicks.\n",
              "      quickchartButtonEl.classList.add('colab-df-spinner');\n",
              "      try {\n",
              "        const charts = await google.colab.kernel.invokeFunction(\n",
              "            'suggestCharts', [key], {});\n",
              "      } catch (error) {\n",
              "        console.error('Error during call to suggestCharts:', error);\n",
              "      }\n",
              "      quickchartButtonEl.classList.remove('colab-df-spinner');\n",
              "      quickchartButtonEl.classList.add('colab-df-quickchart-complete');\n",
              "    }\n",
              "    (() => {\n",
              "      let quickchartButtonEl =\n",
              "        document.querySelector('#df-4eab6ab3-fae1-4de6-92a0-a709db44b455 button');\n",
              "      quickchartButtonEl.style.display =\n",
              "        google.colab.kernel.accessAllowed ? 'block' : 'none';\n",
              "    })();\n",
              "  </script>\n",
              "</div>\n",
              "    </div>\n",
              "  </div>\n"
            ]
          },
          "metadata": {},
          "execution_count": 15
        }
      ],
      "source": [
        "dataset_az = pd.read_csv('A_Z Handwritten Data.csv').astype('float32')\n",
        "# Menampilkan DataFrame dataset_az\n",
        "dataset_az"
      ]
    },
    {
      "cell_type": "markdown",
      "metadata": {
        "id": "_v6pp5QNyvVx"
      },
      "source": [
        "2.Melakukan pemrosesan data:\n",
        "-Menghapus kolom dengan label '0' dari dataset_az dan menyimpannya dalam variabel alphabet_data.\n",
        "-Mengambil kolom dengan label '0' dari dataset_az dan menyimpannya dalam variabel alphabet_labels."
      ]
    },
    {
      "cell_type": "code",
      "execution_count": 16,
      "metadata": {
        "id": "6m59M5JPyzv3"
      },
      "outputs": [],
      "source": [
        "# Get pixel data only\n",
        "alphabet_data = dataset_az.drop('0', axis=1)\n",
        "\n",
        "# Get labels only\n",
        "alphabet_labels = dataset_az['0']"
      ]
    },
    {
      "cell_type": "markdown",
      "metadata": {
        "id": "LWN0txGIy2JU"
      },
      "source": [
        "3.Memeriksa bentuk (shape) dari alphabet_data dan alphabet_labels menggunakan print(alphabet_data.shape, alphabet_labels.shape)"
      ]
    },
    {
      "cell_type": "code",
      "execution_count": 17,
      "metadata": {
        "id": "Ic_7yCUxy6hy",
        "colab": {
          "base_uri": "https://localhost:8080/"
        },
        "outputId": "7faef169-a9da-4abd-e08d-557818c3b34d"
      },
      "outputs": [
        {
          "output_type": "stream",
          "name": "stdout",
          "text": [
            "(372450, 784) (372450,)\n"
          ]
        }
      ],
      "source": [
        "# Check shape data\n",
        "print(alphabet_data.shape, alphabet_labels.shape)"
      ]
    },
    {
      "cell_type": "code",
      "execution_count": 18,
      "metadata": {
        "id": "RblGFGuZy9Q4",
        "colab": {
          "base_uri": "https://localhost:8080/"
        },
        "outputId": "2f60cab4-ab56-4a8d-8f7a-44170098a2b5"
      },
      "outputs": [
        {
          "output_type": "execute_result",
          "data": {
            "text/plain": [
              "(372450,)"
            ]
          },
          "metadata": {},
          "execution_count": 18
        }
      ],
      "source": [
        "# Check shape labels\n",
        "alphabet_labels.shape"
      ]
    },
    {
      "cell_type": "markdown",
      "metadata": {
        "id": "_KClgwmny_5-"
      },
      "source": [
        "4.Mengubah bentuk array alphabet_data menjadi (alphabet_data.shape[0], 28, 28) menggunakan np.reshape().\n",
        "\n",
        "5.Memeriksa bentuk (shape) dari alphabet_data setelah perubahan bentuk menggunakan alphabet_data.shape."
      ]
    },
    {
      "cell_type": "code",
      "execution_count": 19,
      "metadata": {
        "id": "uUFvt3EJzC56",
        "colab": {
          "base_uri": "https://localhost:8080/"
        },
        "outputId": "b704d33c-57d5-4514-af92-b992103b85cc"
      },
      "outputs": [
        {
          "output_type": "execute_result",
          "data": {
            "text/plain": [
              "(372450, 28, 28)"
            ]
          },
          "metadata": {},
          "execution_count": 19
        }
      ],
      "source": [
        "# Reshape pixel data to 28*28\n",
        "alphabet_data = np.reshape(alphabet_data.values, (alphabet_data.shape[0], 28, 28))\n",
        "\n",
        "# Check the result by its shape\n",
        "alphabet_data.shape"
      ]
    },
    {
      "cell_type": "markdown",
      "metadata": {
        "id": "pOyYP5MMzKvY"
      },
      "source": [
        "6.Memilih secara acak indeks (index) dari alphabet_data menggunakan np.random.randint(0, alphabet_data.shape[0]).\n",
        "\n",
        "7.Menampilkan gambar dari alphabet_data dengan peta warna 'gray' menggunakan plt.imshow(). Judul plot juga ditambahkan dengan mencantumkan kelas dari alphabet_labels untuk sampel yang dipilih.\n",
        "\n",
        "8.Membuat DataFrame baru df_az_labels dengan kolom 'Labels' yang berisi nilai-nilai dari alphabet_labels."
      ]
    },
    {
      "cell_type": "code",
      "execution_count": 20,
      "metadata": {
        "id": "VvmAOS6EzSD9",
        "colab": {
          "base_uri": "https://localhost:8080/",
          "height": 469
        },
        "outputId": "9629a9a0-1e87-4be4-e6a3-910d697ace58"
      },
      "outputs": [
        {
          "output_type": "execute_result",
          "data": {
            "text/plain": [
              "Text(0.5, 1.0, 'Class: 2.0')"
            ]
          },
          "metadata": {},
          "execution_count": 20
        },
        {
          "output_type": "display_data",
          "data": {
            "text/plain": [
              "<Figure size 640x480 with 1 Axes>"
            ],
            "image/png": "[encoded data removed]"
          },
          "metadata": {}
        }
      ],
      "source": [
        "# Randomly checking A-Z dataset\n",
        "index = np.random.randint(0, alphabet_data.shape[0])\n",
        "\n",
        "plt.imshow(alphabet_data[index], cmap='gray')\n",
        "\n",
        "plt.title('Class: ' + str(alphabet_labels[index]))"
      ]
    },
    {
      "cell_type": "markdown",
      "metadata": {
        "id": "cHjNFQBDzYqV"
      },
      "source": [
        "9.Menggunakan sns.countplot() untuk memvisualisasikan distribusi label dalam dataset menggunakan sumbu x yang merupakan 'Labels' dari df_az_labels"
      ]
    },
    {
      "cell_type": "code",
      "execution_count": 21,
      "metadata": {
        "id": "66RNYxjJzagK",
        "colab": {
          "base_uri": "https://localhost:8080/",
          "height": 468
        },
        "outputId": "7199d274-ecec-47bf-d46e-1a60f33a773f"
      },
      "outputs": [
        {
          "output_type": "execute_result",
          "data": {
            "text/plain": [
              "<Axes: xlabel='Labels', ylabel='count'>"
            ]
          },
          "metadata": {},
          "execution_count": 21
        },
        {
          "output_type": "display_data",
          "data": {
            "text/plain": [
              "<Figure size 640x480 with 1 Axes>"
            ],
            "image/png": "[encoded data removed]"
          },
          "metadata": {}
        }
      ],
      "source": [
        "# Check data distribution\n",
        "df_az_labels = pd.DataFrame({\n",
        "    'Labels': alphabet_labels.values\n",
        "})\n",
        "\n",
        "# Menggunakan seaborn untuk membuat plot countplot dengan sumbu x adalah 'Labels' dari df_az_labels\n",
        "sns.countplot(df_az_labels, x='Labels')"
      ]
    },
    {
      "cell_type": "markdown",
      "metadata": {
        "id": "WnDU2u8SzdiO"
      },
      "source": [
        "#Combine Dataset (MNIST + Kaggel A-Z)"
      ]
    },
    {
      "cell_type": "code",
      "execution_count": 22,
      "metadata": {
        "id": "UP71bXeBzh5s",
        "colab": {
          "base_uri": "https://localhost:8080/"
        },
        "outputId": "a7c5fcbd-aec7-4132-8182-44187ef855b7"
      },
      "outputs": [
        {
          "output_type": "execute_result",
          "data": {
            "text/plain": [
              "array([0, 1, 2, 3, 4, 5, 6, 7, 8, 9], dtype=uint8)"
            ]
          },
          "metadata": {},
          "execution_count": 22
        }
      ],
      "source": [
        "# Memeriksa nilai unik dari digits_labels\n",
        "np.unique(digits_labels)"
      ]
    },
    {
      "cell_type": "code",
      "execution_count": 23,
      "metadata": {
        "id": "4SEurNSGznfC",
        "colab": {
          "base_uri": "https://localhost:8080/"
        },
        "outputId": "78dc65d5-df1c-4110-a6eb-69d8b0a3f2e3"
      },
      "outputs": [
        {
          "output_type": "execute_result",
          "data": {
            "text/plain": [
              "array([ 0.,  1.,  2.,  3.,  4.,  5.,  6.,  7.,  8.,  9., 10., 11., 12.,\n",
              "       13., 14., 15., 16., 17., 18., 19., 20., 21., 22., 23., 24., 25.],\n",
              "      dtype=float32)"
            ]
          },
          "metadata": {},
          "execution_count": 23
        }
      ],
      "source": [
        "# Memeriksa nilai unik dari alphabet_labels\n",
        "np.unique(alphabet_labels)"
      ]
    },
    {
      "cell_type": "code",
      "execution_count": 24,
      "metadata": {
        "id": "FCoZMQ1WzqzG"
      },
      "outputs": [],
      "source": [
        "alphabet_labels += 10"
      ]
    },
    {
      "cell_type": "code",
      "execution_count": 25,
      "metadata": {
        "id": "Gr4b6rAVzvrS",
        "colab": {
          "base_uri": "https://localhost:8080/"
        },
        "outputId": "d9d8ec0f-bbdd-436c-d86d-0bb5c01fd91a"
      },
      "outputs": [
        {
          "output_type": "execute_result",
          "data": {
            "text/plain": [
              "array([10., 11., 12., 13., 14., 15., 16., 17., 18., 19., 20., 21., 22.,\n",
              "       23., 24., 25., 26., 27., 28., 29., 30., 31., 32., 33., 34., 35.],\n",
              "      dtype=float32)"
            ]
          },
          "metadata": {},
          "execution_count": 25
        }
      ],
      "source": [
        "# check alphabet labels again\n",
        "np.unique(alphabet_labels)"
      ]
    },
    {
      "cell_type": "code",
      "execution_count": 26,
      "metadata": {
        "id": "cJEcSURrzxZ5"
      },
      "outputs": [],
      "source": [
        "# Combine both of them\n",
        "# Menggabungkan dua array, alphabet_data dan digits_data, secara vertikal menggunakan np.vstack()\n",
        "data = np.vstack([alphabet_data, digits_data])\n",
        "\n",
        "# Menggabungkan dua array, alphabet_labels dan digits_labels, secara horizontal menggunakan np.hstack()\n",
        "labels = np.hstack([alphabet_labels, digits_labels])"
      ]
    },
    {
      "cell_type": "code",
      "execution_count": 27,
      "metadata": {
        "id": "tT3l2P17z0pJ",
        "colab": {
          "base_uri": "https://localhost:8080/"
        },
        "outputId": "d38bfe3e-a488-4c63-ff83-9ec8abda6a21"
      },
      "outputs": [
        {
          "output_type": "execute_result",
          "data": {
            "text/plain": [
              "((442450, 28, 28), (442450,))"
            ]
          },
          "metadata": {},
          "execution_count": 27
        }
      ],
      "source": [
        "# Check the shape\n",
        "data.shape, labels.shape"
      ]
    },
    {
      "cell_type": "code",
      "execution_count": 28,
      "metadata": {
        "id": "ZohrwB7Ez2rh",
        "colab": {
          "base_uri": "https://localhost:8080/"
        },
        "outputId": "5b9d61d0-15d8-483c-e052-e5c34a08fac4"
      },
      "outputs": [
        {
          "output_type": "execute_result",
          "data": {
            "text/plain": [
              "array([ 0.,  1.,  2.,  3.,  4.,  5.,  6.,  7.,  8.,  9., 10., 11., 12.,\n",
              "       13., 14., 15., 16., 17., 18., 19., 20., 21., 22., 23., 24., 25.,\n",
              "       26., 27., 28., 29., 30., 31., 32., 33., 34., 35.], dtype=float32)"
            ]
          },
          "metadata": {},
          "execution_count": 28
        }
      ],
      "source": [
        "# Check labels\n",
        "np.unique(labels)"
      ]
    },
    {
      "cell_type": "code",
      "execution_count": 29,
      "metadata": {
        "id": "oFd625t1z5Ek"
      },
      "outputs": [],
      "source": [
        "# Convert data to float32\n",
        "data = np.array(data, dtype = 'float32')"
      ]
    },
    {
      "cell_type": "code",
      "execution_count": 30,
      "metadata": {
        "id": "C4qMtsxvz6jZ",
        "colab": {
          "base_uri": "https://localhost:8080/"
        },
        "outputId": "89e1ee57-ac9f-480c-e01f-daef86492ef4"
      },
      "outputs": [
        {
          "output_type": "execute_result",
          "data": {
            "text/plain": [
              "(442450, 28, 28, 1)"
            ]
          },
          "metadata": {},
          "execution_count": 30
        }
      ],
      "source": [
        "# Since Convolutional need 3d data (including depth)\n",
        "# and our images only in 2d data (because in grayscale format)\n",
        "# we need to add \"the depth\" to the data\n",
        "data = np.expand_dims(data, axis=-1)\n",
        "\n",
        "# check shape\n",
        "data.shape"
      ]
    },
    {
      "cell_type": "markdown",
      "metadata": {
        "id": "F1pJaF3Hz8AL"
      },
      "source": [
        "#Preprocessing"
      ]
    },
    {
      "cell_type": "code",
      "execution_count": 31,
      "metadata": {
        "id": "pQC0ndf_z-Mw"
      },
      "outputs": [],
      "source": [
        "# Normalize data\n",
        "data /= 255.0"
      ]
    },
    {
      "cell_type": "code",
      "execution_count": 32,
      "metadata": {
        "id": "ZwhnHS6i0AYB",
        "colab": {
          "base_uri": "https://localhost:8080/"
        },
        "outputId": "b8902f55-1e9d-46ea-8c10-395c73e2aa44"
      },
      "outputs": [
        {
          "output_type": "execute_result",
          "data": {
            "text/plain": [
              "(0.0, 1.0)"
            ]
          },
          "metadata": {},
          "execution_count": 32
        }
      ],
      "source": [
        "# Check range value of data\n",
        "data[0].min(), data[0].max()"
      ]
    },
    {
      "cell_type": "code",
      "execution_count": 33,
      "metadata": {
        "id": "eQIW6ZC10B9Z"
      },
      "outputs": [],
      "source": [
        "# Enconde the labels\n",
        "# LabelBinarizer similar with OneHotEncoder\n",
        "le = LabelBinarizer()\n",
        "labels = le.fit_transform(labels)"
      ]
    },
    {
      "cell_type": "code",
      "execution_count": 34,
      "metadata": {
        "id": "dnvmYsB30DTN",
        "colab": {
          "base_uri": "https://localhost:8080/"
        },
        "outputId": "dc350750-aab9-4ee7-d21d-401426629df3"
      },
      "outputs": [
        {
          "output_type": "execute_result",
          "data": {
            "text/plain": [
              "(442450, 36)"
            ]
          },
          "metadata": {},
          "execution_count": 34
        }
      ],
      "source": [
        "# Check labels shape\n",
        "labels.shape"
      ]
    },
    {
      "cell_type": "code",
      "execution_count": 35,
      "metadata": {
        "id": "-RuA7jc80EaS",
        "colab": {
          "base_uri": "https://localhost:8080/",
          "height": 469
        },
        "outputId": "6b32f1f8-71c4-49e8-8085-d5cc16d60076"
      },
      "outputs": [
        {
          "output_type": "execute_result",
          "data": {
            "text/plain": [
              "Text(0.5, 1.0, '[0 0 0 0 0 0 0 0 0 0 1 0 0 0 0 0 0 0 0 0 0 0 0 0 0 0 0 0 0 0 0 0 0 0 0 0]')"
            ]
          },
          "metadata": {},
          "execution_count": 35
        },
        {
          "output_type": "display_data",
          "data": {
            "text/plain": [
              "<Figure size 640x480 with 1 Axes>"
            ],
            "image/png": "[encoded data removed]"
          },
          "metadata": {}
        }
      ],
      "source": [
        "# Check data with label binarizer's label\n",
        "plt.imshow(data[30000].reshape(28,28), cmap='gray')\n",
        "plt.title(str(labels[0]))"
      ]
    },
    {
      "cell_type": "code",
      "execution_count": 36,
      "metadata": {
        "id": "qoDeZ-dj0GSA",
        "colab": {
          "base_uri": "https://localhost:8080/"
        },
        "outputId": "f3e47eff-9f85-4839-fff1-2d8f40a2292c"
      },
      "outputs": [
        {
          "output_type": "execute_result",
          "data": {
            "text/plain": [
              "array([ 6903,  7877,  6990,  7141,  6824,  6313,  6876,  7293,  6825,\n",
              "        6958, 13869,  8668, 23409, 10134, 11440,  1163,  5762,  7218,\n",
              "        1120,  8493,  5603, 11586, 12336, 19010, 57825, 19341,  5812,\n",
              "       11566, 48419, 22495, 29008,  4182, 10784,  6272, 10859,  6076])"
            ]
          },
          "metadata": {},
          "execution_count": 36
        }
      ],
      "source": [
        "# Since our data is not balance, we will handle it by giving weight for 'small' data\n",
        "\n",
        "# Check number of data for each labels first\n",
        "classes_total = labels.sum(axis = 0)\n",
        "classes_total"
      ]
    },
    {
      "cell_type": "code",
      "execution_count": 37,
      "metadata": {
        "id": "aKXvTpyB0HrF",
        "colab": {
          "base_uri": "https://localhost:8080/"
        },
        "outputId": "efaadb31-335a-44ed-ad2e-e7ee536be1ba"
      },
      "outputs": [
        {
          "output_type": "execute_result",
          "data": {
            "text/plain": [
              "57825"
            ]
          },
          "metadata": {},
          "execution_count": 37
        }
      ],
      "source": [
        "# Check the biggest value of data\n",
        "classes_total.max()"
      ]
    },
    {
      "cell_type": "code",
      "execution_count": 38,
      "metadata": {
        "id": "JFGlC3X60KUI",
        "colab": {
          "base_uri": "https://localhost:8080/"
        },
        "outputId": "8907ed37-ccbf-44d2-9053-a99d8ebc1d08"
      },
      "outputs": [
        {
          "output_type": "execute_result",
          "data": {
            "text/plain": [
              "{0: 8.376792698826597,\n",
              " 1: 7.340992763742541,\n",
              " 2: 8.272532188841202,\n",
              " 3: 8.097605377398123,\n",
              " 4: 8.473769050410317,\n",
              " 5: 9.15967052114684,\n",
              " 6: 8.409685863874346,\n",
              " 7: 7.928835870012341,\n",
              " 8: 8.472527472527473,\n",
              " 9: 8.310577752227651,\n",
              " 10: 4.169370538611291,\n",
              " 11: 6.671089063221043,\n",
              " 12: 2.4702037677816224,\n",
              " 13: 5.7060390763765545,\n",
              " 14: 5.0546328671328675,\n",
              " 15: 49.72055030094583,\n",
              " 16: 10.035577924331829,\n",
              " 17: 8.011221945137157,\n",
              " 18: 51.629464285714285,\n",
              " 19: 6.808548216178029,\n",
              " 20: 10.320364090665715,\n",
              " 21: 4.990937338166753,\n",
              " 22: 4.6875,\n",
              " 23: 3.0418200946870066,\n",
              " 24: 1.0,\n",
              " 25: 2.989762680316426,\n",
              " 26: 9.94924294562973,\n",
              " 27: 4.999567698426422,\n",
              " 28: 1.1942625828703608,\n",
              " 29: 2.5705712380529007,\n",
              " 30: 1.993415609487038,\n",
              " 31: 13.827116212338593,\n",
              " 32: 5.362110534124629,\n",
              " 33: 9.21954719387755,\n",
              " 34: 5.3250759738465785,\n",
              " 35: 9.51695194206715}"
            ]
          },
          "metadata": {},
          "execution_count": 38
        }
      ],
      "source": [
        "# Create a weight for each data\n",
        "classes_weights = {}\n",
        "for i in range(0, len(classes_total)):\n",
        "  #print(i)\n",
        "  classes_weights[i] = classes_total.max() / classes_total[i]\n",
        "\n",
        "# Check the weight for each data\n",
        "classes_weights"
      ]
    },
    {
      "cell_type": "markdown",
      "metadata": {
        "id": "wKRucSYm0NB1"
      },
      "source": [
        "Hasil yang dihasilkan dari Preprocessing adalah sebagai berikut:\n",
        "\n",
        "-Normalisasi data akan menghasilkan rentang nilai antara 0 dan 1.\n",
        "\n",
        "-Encoding label menggunakan label binarizer akan menghasilkan representasi biner untuk setiap label, dengan bentuk (jumlah sampel, jumlah kelas).\n",
        "\n",
        "-Gambar yang ditampilkan akan menunjukkan gambar dari data dengan label biner yang sesuai.\n",
        "\n",
        "-Bobot untuk setiap label akan digunakan untuk menangani ketidakseimbangan data. Bobot ini memberikan penekanan lebih pada data yang lebih sedikit sehingga model dapat mempelajari dengan baik dari data yang kurang representatif.\n",
        "\n",
        "Dengan demikian, hasil yang dihasilkan adalah normalisasi data, encoding label dengan label binarizer, dan bobot untuk menangani ketidakseimbangan data"
      ]
    },
    {
      "cell_type": "code",
      "execution_count": 39,
      "metadata": {
        "id": "P0w3z0HG0axq"
      },
      "outputs": [],
      "source": [
        "# Memisahkan data dan label menjadi data latih dan data uji menggunakan train_test_split\n",
        "# Proporsi data uji adalah 0.2 (20%)\n",
        "# Nilai random_state digunakan untuk menghasilkan pembagian yang sama setiap kali kode dijalankan\n",
        "# Stratify = labels digunakan untuk memastikan distribusi kelas yang seimbang antara data latih dan data uji\n",
        "X_train, X_test, y_train, y_test = train_test_split(data, labels, test_size=0.2, random_state=1, stratify=labels)"
      ]
    },
    {
      "cell_type": "markdown",
      "metadata": {
        "id": "jkRpoL8N0iko"
      },
      "source": [
        "#Create Data Augmentation"
      ]
    },
    {
      "cell_type": "code",
      "execution_count": 40,
      "metadata": {
        "id": "Sazt-rQs0lQb"
      },
      "outputs": [],
      "source": [
        "# Import library\n",
        "from tensorflow.keras.preprocessing.image import ImageDataGenerator"
      ]
    },
    {
      "cell_type": "code",
      "execution_count": 41,
      "metadata": {
        "id": "SvJUNAHF0o6t"
      },
      "outputs": [],
      "source": [
        "# Membuat objek augmentation menggunakan kelas ImageDataGenerator\n",
        "# rotation_range = 10 mengatur rentang rotasi gambar antara -10 dan +10 derajat\n",
        "# zoom_range = 0.05 mengatur rentang perbesaran gambar antara 0.95 dan 1.05 kali ukuran aslinya\n",
        "# width_shift_range = 0.1 mengatur rentang pergeseran lebar gambar sebesar 0.1 kali lebar aslinya\n",
        "# height_shift_range = 0.1 mengatur rentang pergeseran tinggi gambar sebesar 0.1 kali tinggi aslinya\n",
        "# horizontal_flip = False mengatur untuk tidak melakukan flipping horizontal pada gambar\n",
        "augmentation = ImageDataGenerator(rotation_range=10, zoom_range=0.05, width_shift_range=0.1,\n",
        "                                  height_shift_range=0.1, horizontal_flip=False)"
      ]
    },
    {
      "cell_type": "markdown",
      "metadata": {
        "id": "FYaqnQ400r1h"
      },
      "source": [
        "#Build CNN Model"
      ]
    },
    {
      "cell_type": "code",
      "execution_count": 42,
      "metadata": {
        "id": "-B1qTY4q0vJY"
      },
      "outputs": [],
      "source": [
        "# Import library\n",
        "from tensorflow.keras.models import Sequential\n",
        "from tensorflow.keras.layers import Conv2D, MaxPool2D, Flatten, Dense\n",
        "from tensorflow.keras.callbacks import ModelCheckpoint"
      ]
    },
    {
      "cell_type": "code",
      "execution_count": 43,
      "metadata": {
        "id": "XipRlwrn0yJO"
      },
      "outputs": [],
      "source": [
        "# Build the network\n",
        "# Membuat objek model jaringan saraf menggunakan kelas Sequential\n",
        "network = Sequential()\n",
        "\n",
        "# Menambahkan layer Conv2D sebagai layer konvolusi dengan 32 filter, ukuran kernel 3x3, fungsi aktivasi ReLU, dan input_shape (28, 28, 1)\n",
        "network.add(Conv2D(filters=32, kernel_size=(3,3), activation='relu', input_shape=(28,28,1)))\n",
        "\n",
        "# Menambahkan layer MaxPool2D sebagai layer pooling dengan ukuran pool_size 2x2\n",
        "network.add(MaxPool2D(pool_size=(2,2)))\n",
        "\n",
        "# Menambahkan layer Conv2D kedua dengan 64 filter, ukuran kernel 3x3, fungsi aktivasi ReLU, dan padding 'same'\n",
        "network.add(Conv2D(filters=64, kernel_size=(3,3), activation='relu', padding='same'))\n",
        "\n",
        "# Menambahkan layer MaxPool2D kedua dengan ukuran pool_size 2x2\n",
        "network.add(MaxPool2D(pool_size=(2,2)))\n",
        "\n",
        "# Menambahkan layer Conv2D ketiga dengan 128 filter, ukuran kernel 3x3, fungsi aktivasi ReLU, dan padding 'valid'\n",
        "network.add(Conv2D(filters=128, kernel_size=(3,3), activation='relu', padding='valid'))\n",
        "\n",
        "# Menambahkan layer MaxPool2D ketiga dengan ukuran pool_size 2x2\n",
        "network.add(MaxPool2D(pool_size=(2,2)))\n",
        "\n",
        "# Menambahkan layer Flatten untuk meratakan output menjadi vektor\n",
        "network.add(Flatten())\n",
        "\n",
        "# Menambahkan layer Dense (fully connected) dengan 64 unit dan fungsi aktivasi ReLU\n",
        "network.add(Dense(64, activation='relu'))\n",
        "\n",
        "# Menambahkan layer Dense kedua dengan 128 unit dan fungsi aktivasi ReLU\n",
        "network.add(Dense(128, activation='relu'))\n",
        "\n",
        "# Menambahkan layer Dense terakhir dengan 36 unit (sesuai dengan jumlah kelas) dan fungsi aktivasi softmax\n",
        "network.add(Dense(36, activation='softmax'))\n",
        "\n",
        "# Mengompilasi model dengan menggunakan categorical_crossentropy sebagai loss function, adam sebagai optimizer, dan metrik akurasi\n",
        "network.compile(loss='categorical_crossentropy', optimizer='adam', metrics=['accuracy'])"
      ]
    },
    {
      "cell_type": "code",
      "execution_count": 44,
      "metadata": {
        "id": "p3Mi0Q4i0znC",
        "colab": {
          "base_uri": "https://localhost:8080/"
        },
        "outputId": "54883660-e828-48d1-e158-a5ce2e6531ae"
      },
      "outputs": [
        {
          "output_type": "stream",
          "name": "stdout",
          "text": [
            "Model: \"sequential\"\n",
            "_________________________________________________________________\n",
            " Layer (type)                Output Shape              Param #   \n",
            "=================================================================\n",
            " conv2d (Conv2D)             (None, 26, 26, 32)        320       \n",
            "                                                                 \n",
            " max_pooling2d (MaxPooling2  (None, 13, 13, 32)        0         \n",
            " D)                                                              \n",
            "                                                                 \n",
            " conv2d_1 (Conv2D)           (None, 13, 13, 64)        18496     \n",
            "                                                                 \n",
            " max_pooling2d_1 (MaxPoolin  (None, 6, 6, 64)          0         \n",
            " g2D)                                                            \n",
            "                                                                 \n",
            " conv2d_2 (Conv2D)           (None, 4, 4, 128)         73856     \n",
            "                                                                 \n",
            " max_pooling2d_2 (MaxPoolin  (None, 2, 2, 128)         0         \n",
            " g2D)                                                            \n",
            "                                                                 \n",
            " flatten (Flatten)           (None, 512)               0         \n",
            "                                                                 \n",
            " dense (Dense)               (None, 64)                32832     \n",
            "                                                                 \n",
            " dense_1 (Dense)             (None, 128)               8320      \n",
            "                                                                 \n",
            " dense_2 (Dense)             (None, 36)                4644      \n",
            "                                                                 \n",
            "=================================================================\n",
            "Total params: 138468 (540.89 KB)\n",
            "Trainable params: 138468 (540.89 KB)\n",
            "Non-trainable params: 0 (0.00 Byte)\n",
            "_________________________________________________________________\n"
          ]
        }
      ],
      "source": [
        "# Check network summary\n",
        "network.summary()"
      ]
    },
    {
      "cell_type": "code",
      "execution_count": 45,
      "metadata": {
        "id": "3PLo-Zh701NX",
        "colab": {
          "base_uri": "https://localhost:8080/"
        },
        "outputId": "ec665e34-e0dd-423d-c200-b1237efcd0d6"
      },
      "outputs": [
        {
          "output_type": "stream",
          "name": "stdout",
          "text": [
            "['0', '1', '2', '3', '4', '5', '6', '7', '8', '9', 'A', 'B', 'C', 'D', 'E', 'F', 'G', 'H', 'I', 'J', 'K', 'L', 'M', 'N', 'O', 'P', 'Q', 'R', 'S', 'T', 'U', 'V', 'W', 'X', 'Y', 'Z']\n"
          ]
        }
      ],
      "source": [
        "# Create actual labels\n",
        "name_labels = '0123456789'\n",
        "name_labels += 'ABCDEFGHIJKLMNOPQRSTUVWXYZ'\n",
        "name_labels = [l for l in name_labels]\n",
        "\n",
        "# Check actual label\n",
        "print(name_labels)"
      ]
    },
    {
      "cell_type": "markdown",
      "metadata": {
        "id": "CL3oGVNg021M"
      },
      "source": [
        "#Train model"
      ]
    },
    {
      "cell_type": "code",
      "execution_count": 46,
      "metadata": {
        "id": "ywghrp0T04dZ"
      },
      "outputs": [],
      "source": [
        "# Set model name, epoch, and batch size\n",
        "file_model = 'custom_ocr.model'\n",
        "epochs = 20\n",
        "batch_size = 128"
      ]
    },
    {
      "cell_type": "code",
      "execution_count": 47,
      "metadata": {
        "id": "O44thP2n07Ox"
      },
      "outputs": [],
      "source": [
        "# Setup checkpoint\n",
        "checkpointer = ModelCheckpoint(file_model, monitor = 'val_loss', verbose = 1, save_best_only=True)"
      ]
    },
    {
      "cell_type": "code",
      "execution_count": 48,
      "metadata": {
        "colab": {
          "base_uri": "https://localhost:8080/"
        },
        "id": "sAgplPB109WK",
        "outputId": "2ffffcc2-8371-43d9-df98-53e4068d94c6"
      },
      "outputs": [
        {
          "output_type": "stream",
          "name": "stdout",
          "text": [
            "Epoch 1/20\n",
            "2765/2765 [==============================] - ETA: 0s - loss: 2.2312 - accuracy: 0.8218\n",
            "Epoch 1: val_loss improved from inf to 0.20866, saving model to custom_ocr.model\n",
            "2765/2765 [==============================] - 543s 196ms/step - loss: 2.2312 - accuracy: 0.8218 - val_loss: 0.2087 - val_accuracy: 0.9293\n",
            "Epoch 2/20\n",
            "2765/2765 [==============================] - ETA: 0s - loss: 0.9871 - accuracy: 0.9009\n",
            "Epoch 2: val_loss improved from 0.20866 to 0.20546, saving model to custom_ocr.model\n",
            "2765/2765 [==============================] - 533s 193ms/step - loss: 0.9871 - accuracy: 0.9009 - val_loss: 0.2055 - val_accuracy: 0.9190\n",
            "Epoch 3/20\n",
            "2765/2765 [==============================] - ETA: 0s - loss: 0.8226 - accuracy: 0.9120\n",
            "Epoch 3: val_loss did not improve from 0.20546\n",
            "2765/2765 [==============================] - 520s 188ms/step - loss: 0.8226 - accuracy: 0.9120 - val_loss: 0.2151 - val_accuracy: 0.9035\n",
            "Epoch 4/20\n",
            "2765/2765 [==============================] - ETA: 0s - loss: 0.7265 - accuracy: 0.9201\n",
            "Epoch 4: val_loss did not improve from 0.20546\n",
            "2765/2765 [==============================] - 529s 191ms/step - loss: 0.7265 - accuracy: 0.9201 - val_loss: 0.2252 - val_accuracy: 0.9054\n",
            "Epoch 5/20\n",
            "2765/2765 [==============================] - ETA: 0s - loss: 0.6678 - accuracy: 0.9259\n",
            "Epoch 5: val_loss did not improve from 0.20546\n",
            "2765/2765 [==============================] - 527s 191ms/step - loss: 0.6678 - accuracy: 0.9259 - val_loss: 0.2206 - val_accuracy: 0.9052\n",
            "Epoch 6/20\n",
            "2765/2765 [==============================] - ETA: 0s - loss: 0.6240 - accuracy: 0.9298\n",
            "Epoch 6: val_loss did not improve from 0.20546\n",
            "2765/2765 [==============================] - 522s 189ms/step - loss: 0.6240 - accuracy: 0.9298 - val_loss: 0.2713 - val_accuracy: 0.8849\n",
            "Epoch 7/20\n",
            "2765/2765 [==============================] - ETA: 0s - loss: 0.5839 - accuracy: 0.9338\n",
            "Epoch 7: val_loss did not improve from 0.20546\n",
            "2765/2765 [==============================] - 547s 198ms/step - loss: 0.5839 - accuracy: 0.9338 - val_loss: 0.2383 - val_accuracy: 0.9014\n",
            "Epoch 8/20\n",
            "2765/2765 [==============================] - ETA: 0s - loss: 0.5600 - accuracy: 0.9359\n",
            "Epoch 8: val_loss did not improve from 0.20546\n",
            "2765/2765 [==============================] - 528s 191ms/step - loss: 0.5600 - accuracy: 0.9359 - val_loss: 0.2656 - val_accuracy: 0.8883\n",
            "Epoch 9/20\n",
            "2765/2765 [==============================] - ETA: 0s - loss: 0.5284 - accuracy: 0.9375\n",
            "Epoch 9: val_loss did not improve from 0.20546\n",
            "2765/2765 [==============================] - 529s 191ms/step - loss: 0.5284 - accuracy: 0.9375 - val_loss: 0.2170 - val_accuracy: 0.9105\n",
            "Epoch 10/20\n",
            "2765/2765 [==============================] - ETA: 0s - loss: 0.5150 - accuracy: 0.9391\n",
            "Epoch 10: val_loss did not improve from 0.20546\n",
            "2765/2765 [==============================] - 522s 189ms/step - loss: 0.5150 - accuracy: 0.9391 - val_loss: 0.2069 - val_accuracy: 0.9159\n",
            "Epoch 11/20\n",
            "2765/2765 [==============================] - ETA: 0s - loss: 0.4965 - accuracy: 0.9407\n",
            "Epoch 11: val_loss did not improve from 0.20546\n",
            "2765/2765 [==============================] - 525s 190ms/step - loss: 0.4965 - accuracy: 0.9407 - val_loss: 0.3602 - val_accuracy: 0.8455\n",
            "Epoch 12/20\n",
            "2765/2765 [==============================] - ETA: 0s - loss: 0.4840 - accuracy: 0.9422\n",
            "Epoch 12: val_loss did not improve from 0.20546\n",
            "2765/2765 [==============================] - 518s 187ms/step - loss: 0.4840 - accuracy: 0.9422 - val_loss: 0.2124 - val_accuracy: 0.9080\n",
            "Epoch 13/20\n",
            "2765/2765 [==============================] - ETA: 0s - loss: 0.4724 - accuracy: 0.9428\n",
            "Epoch 13: val_loss improved from 0.20546 to 0.18522, saving model to custom_ocr.model\n",
            "2765/2765 [==============================] - 528s 191ms/step - loss: 0.4724 - accuracy: 0.9428 - val_loss: 0.1852 - val_accuracy: 0.9231\n",
            "Epoch 14/20\n",
            "2765/2765 [==============================] - ETA: 0s - loss: 0.4557 - accuracy: 0.9453\n",
            "Epoch 14: val_loss improved from 0.18522 to 0.15637, saving model to custom_ocr.model\n",
            "2765/2765 [==============================] - 520s 188ms/step - loss: 0.4557 - accuracy: 0.9453 - val_loss: 0.1564 - val_accuracy: 0.9455\n",
            "Epoch 15/20\n",
            "2765/2765 [==============================] - ETA: 0s - loss: 0.4457 - accuracy: 0.9461\n",
            "Epoch 15: val_loss did not improve from 0.15637\n",
            "2765/2765 [==============================] - 521s 188ms/step - loss: 0.4457 - accuracy: 0.9461 - val_loss: 0.1865 - val_accuracy: 0.9306\n",
            "Epoch 16/20\n",
            "2765/2765 [==============================] - ETA: 0s - loss: 0.4373 - accuracy: 0.9472\n",
            "Epoch 16: val_loss did not improve from 0.15637\n",
            "2765/2765 [==============================] - 519s 188ms/step - loss: 0.4373 - accuracy: 0.9472 - val_loss: 0.1730 - val_accuracy: 0.9354\n",
            "Epoch 17/20\n",
            "2765/2765 [==============================] - ETA: 0s - loss: 0.4304 - accuracy: 0.9480\n",
            "Epoch 17: val_loss did not improve from 0.15637\n",
            "2765/2765 [==============================] - 528s 191ms/step - loss: 0.4304 - accuracy: 0.9480 - val_loss: 0.1706 - val_accuracy: 0.9314\n",
            "Epoch 18/20\n",
            "2765/2765 [==============================] - ETA: 0s - loss: 0.4221 - accuracy: 0.9490\n",
            "Epoch 18: val_loss improved from 0.15637 to 0.14953, saving model to custom_ocr.model\n",
            "2765/2765 [==============================] - 526s 190ms/step - loss: 0.4221 - accuracy: 0.9490 - val_loss: 0.1495 - val_accuracy: 0.9490\n",
            "Epoch 19/20\n",
            "2765/2765 [==============================] - ETA: 0s - loss: 0.4241 - accuracy: 0.9488\n",
            "Epoch 19: val_loss did not improve from 0.14953\n",
            "2765/2765 [==============================] - 526s 190ms/step - loss: 0.4241 - accuracy: 0.9488 - val_loss: 0.1656 - val_accuracy: 0.9367\n",
            "Epoch 20/20\n",
            "2765/2765 [==============================] - ETA: 0s - loss: 0.4151 - accuracy: 0.9500\n",
            "Epoch 20: val_loss did not improve from 0.14953\n",
            "2765/2765 [==============================] - 518s 187ms/step - loss: 0.4151 - accuracy: 0.9500 - val_loss: 0.1630 - val_accuracy: 0.9406\n"
          ]
        }
      ],
      "source": [
        "# Fit the model\n",
        "# Melatih model jaringan saraf menggunakan metode fit\n",
        "# augmentation.flow(X_train, y_train, batch_size=batch_size) menghasilkan generator data augmentasi untuk latihan\n",
        "# X_train dan y_train adalah data latih dan label latih\n",
        "# batch_size adalah ukuran batch yang digunakan dalam pelatihan\n",
        "# validation_data=(X_test, y_test) adalah data validasi yang digunakan selama pelatihan\n",
        "# steps_per_epoch adalah jumlah langkah per epoch yang dihitung berdasarkan panjang data latih dan ukuran batch\n",
        "# epochs adalah jumlah epoch (iterasi) dalam pelatihan\n",
        "# class_weight adalah bobot kelas yang digunakan dalam perhitungan loss function\n",
        "# verbose=1 digunakan untuk menampilkan informasi pelatihan secara terperinci\n",
        "# callbacks=[checkpointer] digunakan untuk menggunakan callback checkpointer yang telah didefinisikan sebelumnya\n",
        "history = network.fit(augmentation.flow(X_train, y_train, batch_size=batch_size),\n",
        "                      validation_data=(X_test, y_test),\n",
        "                      steps_per_epoch=len(X_train) // batch_size,\n",
        "                      epochs=epochs,\n",
        "                      class_weight=classes_weights,\n",
        "                      verbose=1,\n",
        "                      callbacks=[checkpointer])"
      ]
    },
    {
      "cell_type": "markdown",
      "metadata": {
        "id": "5cMecHYf1AzF"
      },
      "source": [
        "#Evaluate Model"
      ]
    },
    {
      "cell_type": "markdown",
      "metadata": {
        "id": "6UAt21Oa1DGh"
      },
      "source": [
        "Make a Single Prediction"
      ]
    },
    {
      "cell_type": "code",
      "execution_count": 49,
      "metadata": {
        "id": "52K7iYCm1F4X",
        "colab": {
          "base_uri": "https://localhost:8080/"
        },
        "outputId": "e751677d-0fc8-416c-f2d5-8b4296c3dc5e"
      },
      "outputs": [
        {
          "output_type": "stream",
          "name": "stdout",
          "text": [
            "692/692 [==============================] - 28s 40ms/step\n"
          ]
        }
      ],
      "source": [
        "# make a prediction\n",
        "predictions = network.predict(X_test, batch_size=batch_size)"
      ]
    },
    {
      "cell_type": "code",
      "execution_count": 50,
      "metadata": {
        "id": "b_X4475P1Lnd",
        "colab": {
          "base_uri": "https://localhost:8080/"
        },
        "outputId": "041bbf5a-c485-4334-a67a-51223ef3131b"
      },
      "outputs": [
        {
          "output_type": "execute_result",
          "data": {
            "text/plain": [
              "array([1.3358524e-19, 1.8964689e-11, 8.4205268e-11, 1.2223169e-19,\n",
              "       6.3747639e-21, 5.0049329e-11, 2.0088100e-14, 4.7152007e-13,\n",
              "       1.7165753e-14, 6.0503133e-18, 1.9829976e-16, 5.9149904e-16,\n",
              "       1.0104045e-08, 1.5712954e-11, 5.3886950e-11, 3.6015448e-14,\n",
              "       1.2568050e-11, 1.3056675e-14, 9.9999028e-01, 6.0100720e-06,\n",
              "       4.6210810e-10, 5.5628296e-10, 2.6655357e-16, 5.9874319e-16,\n",
              "       2.9936923e-12, 8.0693390e-15, 3.6737802e-16, 1.3557386e-14,\n",
              "       2.1849050e-11, 3.5980747e-06, 3.2696679e-11, 5.8216312e-20,\n",
              "       6.4716678e-14, 3.1222236e-12, 3.1373623e-12, 5.9362484e-09],\n",
              "      dtype=float32)"
            ]
          },
          "metadata": {},
          "execution_count": 50
        }
      ],
      "source": [
        "# Check prediction for data-0\n",
        "# You will get the probability for each label\n",
        "# The highest one is the prediction\n",
        "predictions[1]"
      ]
    },
    {
      "cell_type": "code",
      "execution_count": 51,
      "metadata": {
        "id": "acjoM0Cu1NFf",
        "colab": {
          "base_uri": "https://localhost:8080/"
        },
        "outputId": "f04a5aad-7149-465a-a51d-af824e871ae2"
      },
      "outputs": [
        {
          "output_type": "execute_result",
          "data": {
            "text/plain": [
              "18"
            ]
          },
          "metadata": {},
          "execution_count": 51
        }
      ],
      "source": [
        "# Get the actual prediction -> highest probability\n",
        "np.argmax(predictions[1])"
      ]
    },
    {
      "cell_type": "code",
      "execution_count": 52,
      "metadata": {
        "id": "HwEVHOBn1OJL",
        "colab": {
          "base_uri": "https://localhost:8080/",
          "height": 35
        },
        "outputId": "8308a234-b022-41a0-ebe8-ffc00da4f919"
      },
      "outputs": [
        {
          "output_type": "execute_result",
          "data": {
            "text/plain": [
              "'I'"
            ],
            "application/vnd.google.colaboratory.intrinsic+json": {
              "type": "string"
            }
          },
          "metadata": {},
          "execution_count": 52
        }
      ],
      "source": [
        "# Check label for 24\n",
        "name_labels[18]"
      ]
    },
    {
      "cell_type": "code",
      "execution_count": 53,
      "metadata": {
        "id": "OANar5RN1PS8",
        "colab": {
          "base_uri": "https://localhost:8080/"
        },
        "outputId": "992b8650-4b0c-4324-d6fc-8ad5c9f19840"
      },
      "outputs": [
        {
          "output_type": "execute_result",
          "data": {
            "text/plain": [
              "array([0, 0, 0, 0, 0, 0, 0, 0, 0, 0, 0, 0, 0, 0, 0, 0, 0, 0, 1, 0, 0, 0,\n",
              "       0, 0, 0, 0, 0, 0, 0, 0, 0, 0, 0, 0, 0, 0])"
            ]
          },
          "metadata": {},
          "execution_count": 53
        }
      ],
      "source": [
        "# Check y_test label for 0\n",
        "y_test[1]"
      ]
    },
    {
      "cell_type": "code",
      "execution_count": 54,
      "metadata": {
        "id": "OhS2rJqq1QQY",
        "colab": {
          "base_uri": "https://localhost:8080/"
        },
        "outputId": "eb5196d6-11cc-4f23-f477-fdd244125c0e"
      },
      "outputs": [
        {
          "output_type": "execute_result",
          "data": {
            "text/plain": [
              "18"
            ]
          },
          "metadata": {},
          "execution_count": 54
        }
      ],
      "source": [
        "# check the highest value\n",
        "np.argmax(y_test[1])"
      ]
    },
    {
      "cell_type": "code",
      "execution_count": 55,
      "metadata": {
        "id": "oXcXWe_d1RTY",
        "colab": {
          "base_uri": "https://localhost:8080/",
          "height": 35
        },
        "outputId": "5470c11a-c6df-4b57-8d96-0cd3a8a34d70"
      },
      "outputs": [
        {
          "output_type": "execute_result",
          "data": {
            "text/plain": [
              "'S'"
            ],
            "application/vnd.google.colaboratory.intrinsic+json": {
              "type": "string"
            }
          },
          "metadata": {},
          "execution_count": 55
        }
      ],
      "source": [
        "# Check the label of y_test 0\n",
        "name_labels[np.argmax(y_test[18])]"
      ]
    },
    {
      "cell_type": "markdown",
      "metadata": {
        "id": "-RK95jI-1SgH"
      },
      "source": [
        "Make an Evaluation on Test Data"
      ]
    },
    {
      "cell_type": "code",
      "execution_count": 56,
      "metadata": {
        "id": "t7s-ppHg1Tem",
        "colab": {
          "base_uri": "https://localhost:8080/"
        },
        "outputId": "6798c8ed-b24a-4946-c0e8-a305794476c3"
      },
      "outputs": [
        {
          "output_type": "stream",
          "name": "stdout",
          "text": [
            "2766/2766 [==============================] - 37s 13ms/step - loss: 0.1630 - accuracy: 0.9406\n"
          ]
        },
        {
          "output_type": "execute_result",
          "data": {
            "text/plain": [
              "[0.1629745215177536, 0.9406486749649048]"
            ]
          },
          "metadata": {},
          "execution_count": 56
        }
      ],
      "source": [
        "# Evaluate on test data\n",
        "network.evaluate(X_test, y_test)"
      ]
    },
    {
      "cell_type": "code",
      "execution_count": 57,
      "metadata": {
        "id": "gHwIoxnU1WeK",
        "colab": {
          "base_uri": "https://localhost:8080/"
        },
        "outputId": "c0371bf9-9420-47a6-90ba-2d1d8671972c"
      },
      "outputs": [
        {
          "output_type": "stream",
          "name": "stdout",
          "text": [
            "              precision    recall  f1-score   support\n",
            "\n",
            "           0       0.30      0.60      0.40      1381\n",
            "           1       0.98      0.98      0.98      1575\n",
            "           2       0.93      0.96      0.94      1398\n",
            "           3       0.97      0.99      0.98      1428\n",
            "           4       0.92      0.96      0.94      1365\n",
            "           5       0.59      0.95      0.73      1263\n",
            "           6       0.97      0.96      0.96      1375\n",
            "           7       0.97      0.98      0.98      1459\n",
            "           8       0.96      0.98      0.97      1365\n",
            "           9       0.99      0.96      0.97      1392\n",
            "           A       0.99      0.99      0.99      2774\n",
            "           B       0.96      0.99      0.97      1734\n",
            "           C       0.99      0.96      0.98      4682\n",
            "           D       0.80      0.98      0.88      2027\n",
            "           E       0.99      0.98      0.99      2288\n",
            "           F       0.94      1.00      0.97       233\n",
            "           G       0.98      0.95      0.96      1152\n",
            "           H       0.98      0.98      0.98      1444\n",
            "           I       0.97      1.00      0.98       224\n",
            "           J       0.97      0.97      0.97      1698\n",
            "           K       0.95      0.99      0.97      1121\n",
            "           L       0.94      0.99      0.96      2317\n",
            "           M       0.99      0.99      0.99      2467\n",
            "           N       0.99      0.99      0.99      3802\n",
            "           O       0.95      0.79      0.87     11565\n",
            "           P       0.99      0.99      0.99      3868\n",
            "           Q       0.93      0.99      0.96      1162\n",
            "           R       0.99      0.98      0.99      2313\n",
            "           S       0.99      0.91      0.95      9684\n",
            "           T       1.00      0.99      0.99      4499\n",
            "           U       0.98      0.98      0.98      5801\n",
            "           V       0.98      1.00      0.99       836\n",
            "           W       0.97      0.99      0.98      2157\n",
            "           X       0.97      0.99      0.98      1254\n",
            "           Y       0.97      0.96      0.96      2172\n",
            "           Z       0.95      0.95      0.95      1215\n",
            "\n",
            "    accuracy                           0.94     88490\n",
            "   macro avg       0.94      0.96      0.94     88490\n",
            "weighted avg       0.96      0.94      0.95     88490\n",
            "\n"
          ]
        }
      ],
      "source": [
        "# Print Classification Report\n",
        "print(classification_report(y_test.argmax(axis=1), predictions.argmax(axis=1), target_names = name_labels))"
      ]
    },
    {
      "cell_type": "code",
      "execution_count": 58,
      "metadata": {
        "id": "_HIDMkyk1a7p",
        "colab": {
          "base_uri": "https://localhost:8080/",
          "height": 447
        },
        "outputId": "95670596-62d1-4a0c-9733-bb7b7369453b"
      },
      "outputs": [
        {
          "output_type": "execute_result",
          "data": {
            "text/plain": [
              "[<matplotlib.lines.Line2D at 0x7bb77a203f40>]"
            ]
          },
          "metadata": {},
          "execution_count": 58
        },
        {
          "output_type": "display_data",
          "data": {
            "text/plain": [
              "<Figure size 640x480 with 1 Axes>"
            ],
            "image/png": "[encoded data removed]"
          },
          "metadata": {}
        }
      ],
      "source": [
        "# Visualize loss value for each epoch\n",
        "plt.plot(history.history['val_loss'])"
      ]
    },
    {
      "cell_type": "code",
      "execution_count": 59,
      "metadata": {
        "id": "4p-5mqIU1cNZ",
        "colab": {
          "base_uri": "https://localhost:8080/"
        },
        "outputId": "4ddce2b5-87a3-428d-f496-b0b0c6ba00ca"
      },
      "outputs": [
        {
          "output_type": "execute_result",
          "data": {
            "text/plain": [
              "dict_keys(['loss', 'accuracy', 'val_loss', 'val_accuracy'])"
            ]
          },
          "metadata": {},
          "execution_count": 59
        }
      ],
      "source": [
        "# You can also check the another metrics\n",
        "history.history.keys()"
      ]
    },
    {
      "cell_type": "code",
      "execution_count": 60,
      "metadata": {
        "id": "gC1LHOFj1dU2",
        "colab": {
          "base_uri": "https://localhost:8080/",
          "height": 447
        },
        "outputId": "53ffdea5-95f1-4300-e5fc-7a1495baceb4"
      },
      "outputs": [
        {
          "output_type": "execute_result",
          "data": {
            "text/plain": [
              "[<matplotlib.lines.Line2D at 0x7bb7793ed2a0>]"
            ]
          },
          "metadata": {},
          "execution_count": 60
        },
        {
          "output_type": "display_data",
          "data": {
            "text/plain": [
              "<Figure size 640x480 with 1 Axes>"
            ],
            "image/png": "[encoded data removed]"
          },
          "metadata": {}
        }
      ],
      "source": [
        "# Check the model performance by validation accuracy\n",
        "plt.plot(history.history['val_accuracy'])"
      ]
    },
    {
      "cell_type": "code",
      "execution_count": 61,
      "metadata": {
        "id": "7DrXdP121e4x",
        "colab": {
          "base_uri": "https://localhost:8080/"
        },
        "outputId": "6170b7da-4ce3-4566-d2bb-8729a79b307b"
      },
      "outputs": [
        {
          "output_type": "stream",
          "name": "stderr",
          "text": [
            "/usr/local/lib/python3.10/dist-packages/keras/src/engine/training.py:3079: UserWarning: You are saving your model as an HDF5 file via `model.save()`. This file format is considered legacy. We recommend using instead the native Keras format, e.g. `model.save('my_model.keras')`.\n",
            "  saving_api.save_model(\n"
          ]
        }
      ],
      "source": [
        "# The result will show in colab directory\n",
        "network.save('network', save_format= 'h5')"
      ]
    },
    {
      "cell_type": "code",
      "execution_count": 62,
      "metadata": {
        "id": "jNZC1Mp81gGI"
      },
      "outputs": [],
      "source": [
        "# Import library\n",
        "from tensorflow.keras.models import load_model"
      ]
    },
    {
      "cell_type": "code",
      "execution_count": 63,
      "metadata": {
        "id": "EiQX_Pz51h-P"
      },
      "outputs": [],
      "source": [
        "# Load saved network\n",
        "load_network = load_model('network')"
      ]
    },
    {
      "cell_type": "code",
      "execution_count": 64,
      "metadata": {
        "id": "GBC4eECa1k_7",
        "colab": {
          "base_uri": "https://localhost:8080/"
        },
        "outputId": "3fb8e22a-a0f5-41b5-bc3e-45b112bb3ef4"
      },
      "outputs": [
        {
          "output_type": "stream",
          "name": "stdout",
          "text": [
            "Model: \"sequential\"\n",
            "_________________________________________________________________\n",
            " Layer (type)                Output Shape              Param #   \n",
            "=================================================================\n",
            " conv2d (Conv2D)             (None, 26, 26, 32)        320       \n",
            "                                                                 \n",
            " max_pooling2d (MaxPooling2  (None, 13, 13, 32)        0         \n",
            " D)                                                              \n",
            "                                                                 \n",
            " conv2d_1 (Conv2D)           (None, 13, 13, 64)        18496     \n",
            "                                                                 \n",
            " max_pooling2d_1 (MaxPoolin  (None, 6, 6, 64)          0         \n",
            " g2D)                                                            \n",
            "                                                                 \n",
            " conv2d_2 (Conv2D)           (None, 4, 4, 128)         73856     \n",
            "                                                                 \n",
            " max_pooling2d_2 (MaxPoolin  (None, 2, 2, 128)         0         \n",
            " g2D)                                                            \n",
            "                                                                 \n",
            " flatten (Flatten)           (None, 512)               0         \n",
            "                                                                 \n",
            " dense (Dense)               (None, 64)                32832     \n",
            "                                                                 \n",
            " dense_1 (Dense)             (None, 128)               8320      \n",
            "                                                                 \n",
            " dense_2 (Dense)             (None, 36)                4644      \n",
            "                                                                 \n",
            "=================================================================\n",
            "Total params: 138468 (540.89 KB)\n",
            "Trainable params: 138468 (540.89 KB)\n",
            "Non-trainable params: 0 (0.00 Byte)\n",
            "_________________________________________________________________\n"
          ]
        }
      ],
      "source": [
        "# Check summary\n",
        "load_network.summary()"
      ]
    },
    {
      "cell_type": "code",
      "execution_count": 65,
      "metadata": {
        "id": "Ubvji4Ka1m81",
        "colab": {
          "base_uri": "https://localhost:8080/",
          "height": 332
        },
        "outputId": "9b401e41-bd19-49bf-ff03-f14a281528b9"
      },
      "outputs": [
        {
          "output_type": "error",
          "ename": "AttributeError",
          "evalue": "ignored",
          "traceback": [
            "\u001b[0;31m---------------------------------------------------------------------------\u001b[0m",
            "\u001b[0;31mAttributeError\u001b[0m                            Traceback (most recent call last)",
            "\u001b[0;32m<ipython-input-65-2976d6d6247e>\u001b[0m in \u001b[0;36m<cell line: 6>\u001b[0;34m()\u001b[0m\n\u001b[1;32m      4\u001b[0m \u001b[0;34m\u001b[0m\u001b[0m\n\u001b[1;32m      5\u001b[0m \u001b[0mimg\u001b[0m \u001b[0;34m=\u001b[0m \u001b[0mcv2\u001b[0m\u001b[0;34m.\u001b[0m\u001b[0mimread\u001b[0m\u001b[0;34m(\u001b[0m\u001b[0;34m'b_small.png'\u001b[0m\u001b[0;34m)\u001b[0m\u001b[0;34m\u001b[0m\u001b[0;34m\u001b[0m\u001b[0m\n\u001b[0;32m----> 6\u001b[0;31m \u001b[0mcv2_imshow\u001b[0m\u001b[0;34m(\u001b[0m\u001b[0mimg\u001b[0m\u001b[0;34m)\u001b[0m\u001b[0;34m\u001b[0m\u001b[0;34m\u001b[0m\u001b[0m\n\u001b[0m",
            "\u001b[0;32m/usr/local/lib/python3.10/dist-packages/google/colab/patches/__init__.py\u001b[0m in \u001b[0;36mcv2_imshow\u001b[0;34m(a)\u001b[0m\n\u001b[1;32m     16\u001b[0m       \u001b[0;34m(\u001b[0m\u001b[0mN\u001b[0m\u001b[0;34m,\u001b[0m \u001b[0mM\u001b[0m\u001b[0;34m,\u001b[0m \u001b[0;36m4\u001b[0m\u001b[0;34m)\u001b[0m \u001b[0;32mis\u001b[0m \u001b[0man\u001b[0m \u001b[0mNxM\u001b[0m \u001b[0mBGRA\u001b[0m \u001b[0mcolor\u001b[0m \u001b[0mimage\u001b[0m\u001b[0;34m.\u001b[0m\u001b[0;34m\u001b[0m\u001b[0;34m\u001b[0m\u001b[0m\n\u001b[1;32m     17\u001b[0m   \"\"\"\n\u001b[0;32m---> 18\u001b[0;31m   \u001b[0ma\u001b[0m \u001b[0;34m=\u001b[0m \u001b[0ma\u001b[0m\u001b[0;34m.\u001b[0m\u001b[0mclip\u001b[0m\u001b[0;34m(\u001b[0m\u001b[0;36m0\u001b[0m\u001b[0;34m,\u001b[0m \u001b[0;36m255\u001b[0m\u001b[0;34m)\u001b[0m\u001b[0;34m.\u001b[0m\u001b[0mastype\u001b[0m\u001b[0;34m(\u001b[0m\u001b[0;34m'uint8'\u001b[0m\u001b[0;34m)\u001b[0m\u001b[0;34m\u001b[0m\u001b[0;34m\u001b[0m\u001b[0m\n\u001b[0m\u001b[1;32m     19\u001b[0m   \u001b[0;31m# cv2 stores colors as BGR; convert to RGB\u001b[0m\u001b[0;34m\u001b[0m\u001b[0;34m\u001b[0m\u001b[0m\n\u001b[1;32m     20\u001b[0m   \u001b[0;32mif\u001b[0m \u001b[0ma\u001b[0m\u001b[0;34m.\u001b[0m\u001b[0mndim\u001b[0m \u001b[0;34m==\u001b[0m \u001b[0;36m3\u001b[0m\u001b[0;34m:\u001b[0m\u001b[0;34m\u001b[0m\u001b[0;34m\u001b[0m\u001b[0m\n",
            "\u001b[0;31mAttributeError\u001b[0m: 'NoneType' object has no attribute 'clip'"
          ]
        }
      ],
      "source": [
        "# Load Image\n",
        "import cv2\n",
        "from google.colab.patches import cv2_imshow\n",
        "\n",
        "img = cv2.imread('b_small.png')\n",
        "cv2_imshow(img)"
      ]
    },
    {
      "cell_type": "code",
      "execution_count": null,
      "metadata": {
        "id": "i7V29TIB1oZR"
      },
      "outputs": [],
      "source": [
        "# Check shape\n",
        "img.shape"
      ]
    },
    {
      "cell_type": "code",
      "execution_count": null,
      "metadata": {
        "id": "AceUzX-i1pbb"
      },
      "outputs": [],
      "source": [
        "# Convert to gray\n",
        "gray_img = cv2.cvtColor(img, cv2.COLOR_BGR2GRAY)\n",
        "\n",
        "# check shape\n",
        "gray_img.shape"
      ]
    },
    {
      "cell_type": "code",
      "execution_count": null,
      "metadata": {
        "id": "3Im_mXZ61pj8"
      },
      "outputs": [],
      "source": [
        "# Pre-process\n",
        "# Binary Threshold and Otsu\n",
        "value, thresh = cv2.threshold(gray_img, 0, 255, cv2.THRESH_BINARY + cv2.THRESH_OTSU)\n",
        "\n",
        "cv2_imshow(thresh)\n",
        "\n",
        "# print threshold value\n",
        "print(value)"
      ]
    },
    {
      "cell_type": "code",
      "execution_count": null,
      "metadata": {
        "id": "u6YDSt8X1shF"
      },
      "outputs": [],
      "source": [
        "# Resize image in order to match network input shape -> 28*28\n",
        "img_resize = cv2.resize(gray_img, (28,28))\n",
        "cv2_imshow(img_resize)"
      ]
    },
    {
      "cell_type": "code",
      "execution_count": null,
      "metadata": {
        "id": "-iWckkJl1uVS"
      },
      "outputs": [],
      "source": [
        "# Convert to float 32\n",
        "# and extend the dimension since network input shape is 28*28*1\n",
        "img_input = img_resize.astype('float32') / 255 # also perform normalization\n",
        "img_input = np.expand_dims(img_input, axis=-1) # insert depth\n",
        "\n",
        "# check shape\n",
        "img_input.shape"
      ]
    },
    {
      "cell_type": "code",
      "execution_count": null,
      "metadata": {
        "id": "imvoQOVB1vWK"
      },
      "outputs": [],
      "source": [
        "# Add \"amount of data\" as dimension\n",
        "img_input = np.reshape(img_input, (1,28,28,1))\n",
        "img_input.shape"
      ]
    },
    {
      "cell_type": "code",
      "execution_count": null,
      "metadata": {
        "id": "7abw3w4u1wc0"
      },
      "outputs": [],
      "source": [
        "# Make a predition\n",
        "prediction = load_network.predict(img_input)\n",
        "pred_label = np.argmax(prediction) # predict actual label\n",
        "pred_label"
      ]
    },
    {
      "cell_type": "code",
      "execution_count": null,
      "metadata": {
        "id": "4p8yiBtF1xhC"
      },
      "outputs": [],
      "source": [
        "# check label for 6\n",
        "name_labels[6]"
      ]
    },
    {
      "cell_type": "markdown",
      "metadata": {
        "id": "6K5Divwm1zk4"
      },
      "source": [
        "####Kesimpulan"
      ]
    },
    {
      "cell_type": "markdown",
      "source": [
        "\n",
        "Model CNN yang telah dilatih menggunakan data MNIST dan Kaggle A-Z menunjukkan kemampuan yang baik dalam mengklasifikasikan gambar huruf. Dalam contoh spesifik, model berhasil mengenali gambar huruf \"b\" yang diubah ukurannya sebagai huruf \"G\" dengan label prediksi 6. Hal ini menunjukkan bahwa model CNN dapat menangkap pola-pola penting dalam data latih dan dapat diterapkan untuk mengklasifikasikan gambar yang belum pernah dilihat sebelumnya.\n",
        "\n",
        "Meskipun hasilnya cukup akurat, evaluasi lebih lanjut diperlukan dengan menguji model pada dataset yang lebih besar dan beragam. Metrik evaluasi seperti akurasi, presisi, dan recall dapat memberikan pemahaman yang lebih komprehensif tentang performa model. Oleh karena itu, saran untuk pengujian lebih luas dan evaluasi mendalam diberikan untuk membuat kesimpulan yang lebih akurat dan terpercaya mengenai kemampuan model CNN ini"
      ],
      "metadata": {
        "id": "NXO1UWD869p1"
      }
    }
  ],
  "metadata": {
    "colab": {
      "provenance": [],
      "authorship_tag": "ABX9TyPXaREdIr/zHSE0t6fos0Hm",
      "include_colab_link": true
    },
    "kernelspec": {
      "display_name": "Python 3",
      "name": "python3"
    },
    "language_info": {
      "name": "python"
    }
  },
  "nbformat": 4,
  "nbformat_minor": 0
}